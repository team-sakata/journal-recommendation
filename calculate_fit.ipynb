{
 "cells": [
  {
   "cell_type": "code",
   "execution_count": null,
   "id": "e7f730c5-89b8-4649-9de3-a2c028690bbd",
   "metadata": {},
   "outputs": [],
   "source": [
    "from dotenv import load_dotenv\n",
    "# from util import cluster_topics, visualize_clusters\n",
    "import pandas as pd\n",
    "import matplotlib.pyplot as plt\n",
    "import numpy as np\n",
    "# import re\n",
    "import os\n",
    "\n",
    "load_dotenv()\n",
    "\n",
    "data_path = os.getenv('DATA_PATH')\n",
    "result_path = os.getenv('PROCESSED_PATH')\n",
    "figure_path = os.getenv('FIG_PATH')\n",
    "rawdata_path = os.getenv('RAW_PATH')"
   ]
  },
  {
   "cell_type": "code",
   "execution_count": null,
   "id": "bcc83405-b4bb-4731-b545-f75329df80d4",
   "metadata": {},
   "outputs": [],
   "source": [
    "mean = pd.read_pickle(data_path+\"\")\n",
    "sigma = pd.read_pickle(data_path+\"\")\n",
    "\n",
    "asjcs_df = pd.read_pickle(data_path+\"paper_detail/asjcs.pickle\")\n",
    "asjc_df = asjcs_df.explode()\n",
    "cs = asjc_df[(asjc_df>=1700) * (asjc_df<1800)]\n"
   ]
  },
  {
   "cell_type": "code",
   "execution_count": null,
   "id": "7e55dbfc-7b3a-412f-9f73-36c14ab225a8",
   "metadata": {},
   "outputs": [],
   "source": [
    "citation_df = pd.read_pickle(data_path+\"citations_gb.pickle\")\n",
    "journal_df =  pd.read_pickle(data_path+\"paper_detail/journal.pickle\")\n",
    "citation_cs = citation_df[citation_df.index.isin(cs.index)]\n",
    "citation_cs.head()"
   ]
  },
  {
   "cell_type": "code",
   "execution_count": null,
   "id": "8b87d534-e777-40cd-ad3b-9ba865c865d4",
   "metadata": {},
   "outputs": [],
   "source": [
    "doi = \"SAMPLE_DOI\"\n"
   ]
  }
 ],
 "metadata": {
  "kernelspec": {
   "display_name": "Python 3 (ipykernel)",
   "language": "python",
   "name": "python3"
  },
  "language_info": {
   "codemirror_mode": {
    "name": "ipython",
    "version": 3
   },
   "file_extension": ".py",
   "mimetype": "text/x-python",
   "name": "python",
   "nbconvert_exporter": "python",
   "pygments_lexer": "ipython3",
   "version": "3.10.12"
  }
 },
 "nbformat": 4,
 "nbformat_minor": 5
}
