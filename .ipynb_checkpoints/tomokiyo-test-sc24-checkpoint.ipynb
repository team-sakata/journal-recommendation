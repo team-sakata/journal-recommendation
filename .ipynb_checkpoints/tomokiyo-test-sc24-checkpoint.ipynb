{
 "cells": [
  {
   "cell_type": "code",
   "execution_count": 3,
   "id": "b57b5796-fa83-46ee-9581-5ac76beafa48",
   "metadata": {
    "execution": {
     "iopub.execute_input": "2024-07-08T16:23:31.147731Z",
     "iopub.status.busy": "2024-07-08T16:23:31.147205Z",
     "iopub.status.idle": "2024-07-08T16:23:31.417075Z",
     "shell.execute_reply": "2024-07-08T16:23:31.416264Z",
     "shell.execute_reply.started": "2024-07-08T16:23:31.147713Z"
    }
   },
   "outputs": [],
   "source": [
    "import pandas as pd\n",
    "import numpy as np\n",
    "from tqdm import tqdm"
   ]
  },
  {
   "cell_type": "code",
   "execution_count": 4,
   "id": "bdcbec8c-07cf-447e-849c-eab18d5411d8",
   "metadata": {
    "execution": {
     "iopub.execute_input": "2024-07-08T16:23:31.418652Z",
     "iopub.status.busy": "2024-07-08T16:23:31.418391Z",
     "iopub.status.idle": "2024-07-08T16:24:30.956786Z",
     "shell.execute_reply": "2024-07-08T16:24:30.955194Z",
     "shell.execute_reply.started": "2024-07-08T16:23:31.418636Z"
    }
   },
   "outputs": [
    {
     "name": "stdout",
     "output_type": "stream",
     "text": [
      "     eid  num_cited                                                doi  \\\n",
      "107  107         12    10.1175/1520-0442(1997)010<2184:ASAIUF>2.0.CO;2   \n",
      "110  110          6                                  10.1063/1.1285965   \n",
      "116  116         32                            10.1103/PhysRevE.56.623   \n",
      "117  117         84                                     10.1086/304826   \n",
      "118  118         55  10.1002/(SICI)1521-4109(199907)11:9<623::AID-E...   \n",
      "\n",
      "                                                 title      journal  year  \n",
      "107  Assessing surface-atmosphere interactions usin...        13550  1997  \n",
      "110  Symmetry of quantum phase space in a degenerat...        27430  2000  \n",
      "116  Friction in strongly confined polymer melts: E...  21100855841  1997  \n",
      "117  Nearby young dwarf galaxies: Primordial gas an...        26765  1997  \n",
      "118  Determination of iodate in salt samples with a...        23979  1999  \n"
     ]
    }
   ],
   "source": [
    "papers = pd.concat([\n",
    "  pd.read_pickle('/disks/qnap3/shared/scopus-24/data/paper/eid.pickle'),\n",
    "  pd.read_pickle('/disks/qnap3/shared/scopus-24/data/paper/num_cited.pickle'),\n",
    "  pd.read_pickle('/disks/qnap3/shared/scopus-24/data/paper/doi.pickle'),\n",
    "  pd.read_pickle('/disks/qnap3/shared/scopus-24/data/paper/title.pickle'),\n",
    "  pd.read_pickle('/disks/qnap3/shared/scopus-24/data/paper/journal.pickle'), \n",
    "  # pd.read_pickle('/disks/qnap3/shared/scopus-22/data/paper_detail/authids.pickle'),\n",
    "  pd.read_pickle('/disks/qnap3/shared/scopus-24/data/paper/year.pickle'),\n",
    "], axis = \"columns\")\n",
    "print(papers.head())\n",
    "\n",
    "papers = papers[papers[\"doi\"]!=\"NO DOI\"]\n",
    "papers = papers[papers[\"journal\"]!=0]"
   ]
  },
  {
   "cell_type": "code",
   "execution_count": 21,
   "id": "d1d0fcb9-faf8-450f-9e7f-a4ab06bb12c4",
   "metadata": {
    "execution": {
     "iopub.execute_input": "2024-07-08T16:30:12.503186Z",
     "iopub.status.busy": "2024-07-08T16:30:12.502811Z",
     "iopub.status.idle": "2024-07-08T16:30:14.658351Z",
     "shell.execute_reply": "2024-07-08T16:30:14.657147Z",
     "shell.execute_reply.started": "2024-07-08T16:30:12.503167Z"
    }
   },
   "outputs": [],
   "source": [
    "papers_eid_ls = papers.eid.to_list()"
   ]
  },
  {
   "cell_type": "code",
   "execution_count": 5,
   "id": "e780299c-c6e8-4d5d-8202-79c05ab7ec64",
   "metadata": {
    "execution": {
     "iopub.execute_input": "2024-07-08T16:24:30.959316Z",
     "iopub.status.busy": "2024-07-08T16:24:30.959068Z",
     "iopub.status.idle": "2024-07-08T16:24:31.148537Z",
     "shell.execute_reply": "2024-07-08T16:24:31.147633Z",
     "shell.execute_reply.started": "2024-07-08T16:24:30.959289Z"
    }
   },
   "outputs": [
    {
     "data": {
      "text/html": [
       "<div>\n",
       "<style scoped>\n",
       "    .dataframe tbody tr th:only-of-type {\n",
       "        vertical-align: middle;\n",
       "    }\n",
       "\n",
       "    .dataframe tbody tr th {\n",
       "        vertical-align: top;\n",
       "    }\n",
       "\n",
       "    .dataframe thead th {\n",
       "        text-align: right;\n",
       "    }\n",
       "</style>\n",
       "<table border=\"1\" class=\"dataframe\">\n",
       "  <thead>\n",
       "    <tr style=\"text-align: right;\">\n",
       "      <th></th>\n",
       "      <th>journalid</th>\n",
       "      <th>name</th>\n",
       "      <th>country</th>\n",
       "    </tr>\n",
       "  </thead>\n",
       "  <tbody>\n",
       "    <tr>\n",
       "      <th>0</th>\n",
       "      <td>0</td>\n",
       "      <td>NO SOURCENAME</td>\n",
       "      <td>NO SOURCECOUNTRY</td>\n",
       "    </tr>\n",
       "    <tr>\n",
       "      <th>1</th>\n",
       "      <td>12000</td>\n",
       "      <td>Journal of Technology in Counseling</td>\n",
       "      <td>usa</td>\n",
       "    </tr>\n",
       "    <tr>\n",
       "      <th>2</th>\n",
       "      <td>12001</td>\n",
       "      <td>Journal of the Experimental Analysis of Behavior</td>\n",
       "      <td>NO SOURCECOUNTRY</td>\n",
       "    </tr>\n",
       "    <tr>\n",
       "      <th>3</th>\n",
       "      <td>12002</td>\n",
       "      <td>Journal of the History of the Behavioral Sciences</td>\n",
       "      <td>NO SOURCECOUNTRY</td>\n",
       "    </tr>\n",
       "    <tr>\n",
       "      <th>4</th>\n",
       "      <td>12003</td>\n",
       "      <td>Reconstructionist</td>\n",
       "      <td>usa</td>\n",
       "    </tr>\n",
       "  </tbody>\n",
       "</table>\n",
       "</div>"
      ],
      "text/plain": [
       "   journalid                                               name  \\\n",
       "0          0                                      NO SOURCENAME   \n",
       "1      12000                Journal of Technology in Counseling   \n",
       "2      12001   Journal of the Experimental Analysis of Behavior   \n",
       "3      12002  Journal of the History of the Behavioral Sciences   \n",
       "4      12003                                  Reconstructionist   \n",
       "\n",
       "            country  \n",
       "0  NO SOURCECOUNTRY  \n",
       "1               usa  \n",
       "2  NO SOURCECOUNTRY  \n",
       "3  NO SOURCECOUNTRY  \n",
       "4               usa  "
      ]
     },
     "execution_count": 5,
     "metadata": {},
     "output_type": "execute_result"
    }
   ],
   "source": [
    "journal_names = pd.read_pickle('/disks/qnap3/shared/scopus-22/data/id_names/journal_info.pickle')\n",
    "journal_names.reset_index(inplace=True)\n",
    "journal_names.head()"
   ]
  },
  {
   "cell_type": "code",
   "execution_count": 6,
   "id": "5a1b1531-d024-4e2e-ab3b-9a90e40fa2de",
   "metadata": {
    "execution": {
     "iopub.execute_input": "2024-07-08T16:24:31.150321Z",
     "iopub.status.busy": "2024-07-08T16:24:31.150102Z",
     "iopub.status.idle": "2024-07-08T16:24:31.280810Z",
     "shell.execute_reply": "2024-07-08T16:24:31.279930Z",
     "shell.execute_reply.started": "2024-07-08T16:24:31.150303Z"
    }
   },
   "outputs": [
    {
     "data": {
      "text/html": [
       "<div>\n",
       "<style scoped>\n",
       "    .dataframe tbody tr th:only-of-type {\n",
       "        vertical-align: middle;\n",
       "    }\n",
       "\n",
       "    .dataframe tbody tr th {\n",
       "        vertical-align: top;\n",
       "    }\n",
       "\n",
       "    .dataframe thead th {\n",
       "        text-align: right;\n",
       "    }\n",
       "</style>\n",
       "<table border=\"1\" class=\"dataframe\">\n",
       "  <thead>\n",
       "    <tr style=\"text-align: right;\">\n",
       "      <th></th>\n",
       "      <th>journalid</th>\n",
       "      <th>name</th>\n",
       "      <th>country</th>\n",
       "    </tr>\n",
       "  </thead>\n",
       "  <tbody>\n",
       "  </tbody>\n",
       "</table>\n",
       "</div>"
      ],
      "text/plain": [
       "Empty DataFrame\n",
       "Columns: [journalid, name, country]\n",
       "Index: []"
      ]
     },
     "execution_count": 6,
     "metadata": {},
     "output_type": "execute_result"
    }
   ],
   "source": [
    "# journalidの取得用\n",
    "journal_names[journal_names['name'].isin([''])]                             "
   ]
  },
  {
   "cell_type": "code",
   "execution_count": 7,
   "id": "cb41930f-2cf9-49fb-bfb3-f30c3bbd05d6",
   "metadata": {
    "execution": {
     "iopub.execute_input": "2024-07-08T16:24:31.283018Z",
     "iopub.status.busy": "2024-07-08T16:24:31.282815Z",
     "iopub.status.idle": "2024-07-08T16:24:31.723192Z",
     "shell.execute_reply": "2024-07-08T16:24:31.722417Z",
     "shell.execute_reply.started": "2024-07-08T16:24:31.283001Z"
    }
   },
   "outputs": [],
   "source": [
    "journal_subset = [\n",
    "  # Disciplinal\n",
    "  # Politics\n",
    "  # 15557 # APSR\n",
    "  # 20333 #\tJournal of Politics\tgbr\n",
    "  # 15555\t# American Journal of Political Science\tgbr\n",
    "  # 25725\t# World Politics\tNO SOURCECOUNTRY\n",
    "  # 13447\t# Comparative Political Studies\tusa\n",
    "\n",
    "  # Physics \n",
    "  # 29143,85318,29465,29459, # Phisical Review A-D\n",
    "  # 21100874237,21100874236,21100829284,21100779241, # Physical Review A-D\n",
    "  # 29150, # Phisical Review Letters\n",
    "  \n",
    "  24222, #Scientometrics\n",
    "  5100155103, #Journal of Informetrics\n",
    "  22900, # Research Policy\n",
    "  22894, # Research Evaluation\n",
    "  21101062805, #Quantitative Science Studies\n",
    "  14726, # Technovation\n",
    "  \n",
    "  # # General\n",
    "  # 21100838541, # Nature Human Behaviour\n",
    "  # 19700182758, # Nature Communications\n",
    "  # 23571, # Science\n",
    "  # 21121 # Proceedings of the National Academy of Science\n",
    "] \n",
    "\n",
    "papers_subset = papers[papers[\"journal\"].isin(journal_subset)].fillna(0)\n",
    "papers_subset_valid = papers_subset[(papers_subset[\"num_cited\"]>0) & (papers_subset[\"doi\"]!=\"NO DOI\")]"
   ]
  },
  {
   "cell_type": "code",
   "execution_count": 8,
   "id": "fe292776-c6d4-4cbd-8b3d-6e9a6b2f40d7",
   "metadata": {
    "execution": {
     "iopub.execute_input": "2024-07-08T16:24:31.724263Z",
     "iopub.status.busy": "2024-07-08T16:24:31.724094Z",
     "iopub.status.idle": "2024-07-08T16:24:31.733464Z",
     "shell.execute_reply": "2024-07-08T16:24:31.732911Z",
     "shell.execute_reply.started": "2024-07-08T16:24:31.724248Z"
    }
   },
   "outputs": [
    {
     "data": {
      "text/html": [
       "<div>\n",
       "<style scoped>\n",
       "    .dataframe tbody tr th:only-of-type {\n",
       "        vertical-align: middle;\n",
       "    }\n",
       "\n",
       "    .dataframe tbody tr th {\n",
       "        vertical-align: top;\n",
       "    }\n",
       "\n",
       "    .dataframe thead th {\n",
       "        text-align: right;\n",
       "    }\n",
       "</style>\n",
       "<table border=\"1\" class=\"dataframe\">\n",
       "  <thead>\n",
       "    <tr style=\"text-align: right;\">\n",
       "      <th></th>\n",
       "      <th>eid</th>\n",
       "      <th>num_cited</th>\n",
       "      <th>doi</th>\n",
       "      <th>title</th>\n",
       "      <th>journal</th>\n",
       "      <th>year</th>\n",
       "    </tr>\n",
       "  </thead>\n",
       "  <tbody>\n",
       "    <tr>\n",
       "      <th>3581</th>\n",
       "      <td>3581</td>\n",
       "      <td>110</td>\n",
       "      <td>10.1016/S0048-7333(99)00120-1</td>\n",
       "      <td>Overseas innovations by Japanese firms: An ana...</td>\n",
       "      <td>22900</td>\n",
       "      <td>2001</td>\n",
       "    </tr>\n",
       "    <tr>\n",
       "      <th>3783</th>\n",
       "      <td>3783</td>\n",
       "      <td>93</td>\n",
       "      <td>10.1016/S0048-7333(98)00063-8</td>\n",
       "      <td>The entry mode choice of MNEs: An evolutionary...</td>\n",
       "      <td>22900</td>\n",
       "      <td>1998</td>\n",
       "    </tr>\n",
       "    <tr>\n",
       "      <th>4368</th>\n",
       "      <td>4368</td>\n",
       "      <td>44</td>\n",
       "      <td>10.1016/S0048-7333(98)00076-6</td>\n",
       "      <td>Technical change and incorporated R &amp; D in the...</td>\n",
       "      <td>22900</td>\n",
       "      <td>1998</td>\n",
       "    </tr>\n",
       "    <tr>\n",
       "      <th>13307</th>\n",
       "      <td>13307</td>\n",
       "      <td>13</td>\n",
       "      <td>10.1016/0048-7333(95)00876-4</td>\n",
       "      <td>Features of policy-making processes in Japan's...</td>\n",
       "      <td>22900</td>\n",
       "      <td>1996</td>\n",
       "    </tr>\n",
       "    <tr>\n",
       "      <th>14932</th>\n",
       "      <td>14932</td>\n",
       "      <td>134</td>\n",
       "      <td>10.1007/BF02458472</td>\n",
       "      <td>A compendium of issues for citation analysis</td>\n",
       "      <td>24222</td>\n",
       "      <td>1999</td>\n",
       "    </tr>\n",
       "    <tr>\n",
       "      <th>...</th>\n",
       "      <td>...</td>\n",
       "      <td>...</td>\n",
       "      <td>...</td>\n",
       "      <td>...</td>\n",
       "      <td>...</td>\n",
       "      <td>...</td>\n",
       "    </tr>\n",
       "    <tr>\n",
       "      <th>85186598960</th>\n",
       "      <td>85186598960</td>\n",
       "      <td>0</td>\n",
       "      <td>10.1162/qss_a_00275</td>\n",
       "      <td>Retracted articles use less free and open-sour...</td>\n",
       "      <td>21101062805</td>\n",
       "      <td>2023</td>\n",
       "    </tr>\n",
       "    <tr>\n",
       "      <th>85186607959</th>\n",
       "      <td>85186607959</td>\n",
       "      <td>0</td>\n",
       "      <td>10.1162/qss_a_00273</td>\n",
       "      <td>Measuring university size: A comparison of aca...</td>\n",
       "      <td>21101062805</td>\n",
       "      <td>2023</td>\n",
       "    </tr>\n",
       "    <tr>\n",
       "      <th>85186614389</th>\n",
       "      <td>85186614389</td>\n",
       "      <td>0</td>\n",
       "      <td>10.1162/qss_a_00279</td>\n",
       "      <td>Scope and limitations of library metrics for t...</td>\n",
       "      <td>21101062805</td>\n",
       "      <td>2023</td>\n",
       "    </tr>\n",
       "    <tr>\n",
       "      <th>85186619765</th>\n",
       "      <td>85186619765</td>\n",
       "      <td>0</td>\n",
       "      <td>10.1162/qss_c_00269</td>\n",
       "      <td>Interdisciplinarity, gender, and the hierarchy...</td>\n",
       "      <td>21101062805</td>\n",
       "      <td>2023</td>\n",
       "    </tr>\n",
       "    <tr>\n",
       "      <th>85186621411</th>\n",
       "      <td>85186621411</td>\n",
       "      <td>0</td>\n",
       "      <td>10.1162/qss_a_00278</td>\n",
       "      <td>Sociocultural factors and academic openness of...</td>\n",
       "      <td>21101062805</td>\n",
       "      <td>2023</td>\n",
       "    </tr>\n",
       "  </tbody>\n",
       "</table>\n",
       "<p>16230 rows × 6 columns</p>\n",
       "</div>"
      ],
      "text/plain": [
       "                     eid  num_cited                            doi  \\\n",
       "3581                3581        110  10.1016/S0048-7333(99)00120-1   \n",
       "3783                3783         93  10.1016/S0048-7333(98)00063-8   \n",
       "4368                4368         44  10.1016/S0048-7333(98)00076-6   \n",
       "13307              13307         13   10.1016/0048-7333(95)00876-4   \n",
       "14932              14932        134             10.1007/BF02458472   \n",
       "...                  ...        ...                            ...   \n",
       "85186598960  85186598960          0            10.1162/qss_a_00275   \n",
       "85186607959  85186607959          0            10.1162/qss_a_00273   \n",
       "85186614389  85186614389          0            10.1162/qss_a_00279   \n",
       "85186619765  85186619765          0            10.1162/qss_c_00269   \n",
       "85186621411  85186621411          0            10.1162/qss_a_00278   \n",
       "\n",
       "                                                         title      journal  \\\n",
       "3581         Overseas innovations by Japanese firms: An ana...        22900   \n",
       "3783         The entry mode choice of MNEs: An evolutionary...        22900   \n",
       "4368         Technical change and incorporated R & D in the...        22900   \n",
       "13307        Features of policy-making processes in Japan's...        22900   \n",
       "14932             A compendium of issues for citation analysis        24222   \n",
       "...                                                        ...          ...   \n",
       "85186598960  Retracted articles use less free and open-sour...  21101062805   \n",
       "85186607959  Measuring university size: A comparison of aca...  21101062805   \n",
       "85186614389  Scope and limitations of library metrics for t...  21101062805   \n",
       "85186619765  Interdisciplinarity, gender, and the hierarchy...  21101062805   \n",
       "85186621411  Sociocultural factors and academic openness of...  21101062805   \n",
       "\n",
       "             year  \n",
       "3581         2001  \n",
       "3783         1998  \n",
       "4368         1998  \n",
       "13307        1996  \n",
       "14932        1999  \n",
       "...           ...  \n",
       "85186598960  2023  \n",
       "85186607959  2023  \n",
       "85186614389  2023  \n",
       "85186619765  2023  \n",
       "85186621411  2023  \n",
       "\n",
       "[16230 rows x 6 columns]"
      ]
     },
     "execution_count": 8,
     "metadata": {},
     "output_type": "execute_result"
    }
   ],
   "source": [
    "papers_subset"
   ]
  },
  {
   "cell_type": "markdown",
   "id": "d3e2890a-7d5e-46fc-9968-8b761f2face3",
   "metadata": {
    "jp-MarkdownHeadingCollapsed": true
   },
   "source": [
    "## ちあきんぐコード"
   ]
  },
  {
   "cell_type": "code",
   "execution_count": 9,
   "id": "2b6b76bc-fb4c-4769-b183-a03913f383d1",
   "metadata": {
    "execution": {
     "iopub.execute_input": "2024-07-08T16:24:31.734398Z",
     "iopub.status.busy": "2024-07-08T16:24:31.734242Z",
     "iopub.status.idle": "2024-07-08T16:24:31.752603Z",
     "shell.execute_reply": "2024-07-08T16:24:31.752039Z",
     "shell.execute_reply.started": "2024-07-08T16:24:31.734384Z"
    }
   },
   "outputs": [
    {
     "data": {
      "text/html": [
       "<div>\n",
       "<style scoped>\n",
       "    .dataframe tbody tr th:only-of-type {\n",
       "        vertical-align: middle;\n",
       "    }\n",
       "\n",
       "    .dataframe tbody tr th {\n",
       "        vertical-align: top;\n",
       "    }\n",
       "\n",
       "    .dataframe thead th {\n",
       "        text-align: right;\n",
       "    }\n",
       "</style>\n",
       "<table border=\"1\" class=\"dataframe\">\n",
       "  <thead>\n",
       "    <tr style=\"text-align: right;\">\n",
       "      <th></th>\n",
       "      <th>eid</th>\n",
       "      <th>num_cited_x</th>\n",
       "      <th>doi</th>\n",
       "      <th>title</th>\n",
       "      <th>journal</th>\n",
       "      <th>year</th>\n",
       "      <th>num_cited_y</th>\n",
       "      <th>weights</th>\n",
       "    </tr>\n",
       "  </thead>\n",
       "  <tbody>\n",
       "    <tr>\n",
       "      <th>0</th>\n",
       "      <td>3581</td>\n",
       "      <td>110</td>\n",
       "      <td>10.1016/S0048-7333(99)00120-1</td>\n",
       "      <td>Overseas innovations by Japanese firms: An ana...</td>\n",
       "      <td>22900</td>\n",
       "      <td>2001</td>\n",
       "      <td>173.202381</td>\n",
       "      <td>0.635095</td>\n",
       "    </tr>\n",
       "    <tr>\n",
       "      <th>1</th>\n",
       "      <td>128587</td>\n",
       "      <td>178</td>\n",
       "      <td>10.1016/S0048-7333(00)00147-5</td>\n",
       "      <td>The changing composition of innovative activit...</td>\n",
       "      <td>22900</td>\n",
       "      <td>2001</td>\n",
       "      <td>173.202381</td>\n",
       "      <td>1.027699</td>\n",
       "    </tr>\n",
       "    <tr>\n",
       "      <th>2</th>\n",
       "      <td>182512</td>\n",
       "      <td>209</td>\n",
       "      <td>10.1016/S0048-7333(00)00098-6</td>\n",
       "      <td>Location and network effects on innovation suc...</td>\n",
       "      <td>22900</td>\n",
       "      <td>2001</td>\n",
       "      <td>173.202381</td>\n",
       "      <td>1.206681</td>\n",
       "    </tr>\n",
       "    <tr>\n",
       "      <th>3</th>\n",
       "      <td>182604</td>\n",
       "      <td>150</td>\n",
       "      <td>10.1016/S0048-7333(00)00095-0</td>\n",
       "      <td>Market- and committee-based mechanisms in the ...</td>\n",
       "      <td>22900</td>\n",
       "      <td>2001</td>\n",
       "      <td>173.202381</td>\n",
       "      <td>0.866039</td>\n",
       "    </tr>\n",
       "    <tr>\n",
       "      <th>4</th>\n",
       "      <td>330585</td>\n",
       "      <td>212</td>\n",
       "      <td>10.1016/S0048-7333(99)00102-X</td>\n",
       "      <td>Determinants of location of overseas R&amp;D activ...</td>\n",
       "      <td>22900</td>\n",
       "      <td>2001</td>\n",
       "      <td>173.202381</td>\n",
       "      <td>1.224002</td>\n",
       "    </tr>\n",
       "  </tbody>\n",
       "</table>\n",
       "</div>"
      ],
      "text/plain": [
       "      eid  num_cited_x                            doi  \\\n",
       "0    3581          110  10.1016/S0048-7333(99)00120-1   \n",
       "1  128587          178  10.1016/S0048-7333(00)00147-5   \n",
       "2  182512          209  10.1016/S0048-7333(00)00098-6   \n",
       "3  182604          150  10.1016/S0048-7333(00)00095-0   \n",
       "4  330585          212  10.1016/S0048-7333(99)00102-X   \n",
       "\n",
       "                                               title  journal  year  \\\n",
       "0  Overseas innovations by Japanese firms: An ana...    22900  2001   \n",
       "1  The changing composition of innovative activit...    22900  2001   \n",
       "2  Location and network effects on innovation suc...    22900  2001   \n",
       "3  Market- and committee-based mechanisms in the ...    22900  2001   \n",
       "4  Determinants of location of overseas R&D activ...    22900  2001   \n",
       "\n",
       "   num_cited_y   weights  \n",
       "0   173.202381  0.635095  \n",
       "1   173.202381  1.027699  \n",
       "2   173.202381  1.206681  \n",
       "3   173.202381  0.866039  \n",
       "4   173.202381  1.224002  "
      ]
     },
     "execution_count": 9,
     "metadata": {},
     "output_type": "execute_result"
    }
   ],
   "source": [
    "groups = papers_subset_valid.groupby([\"journal\",\"year\"])[\"num_cited\"].mean()\n",
    "\n",
    "journal_year_normalized = groups.reset_index()\n",
    "relative_citation = pd.merge(papers_subset_valid,\\\n",
    "                               journal_year_normalized,\\\n",
    "                               on=[\"journal\",\"year\"])\n",
    "weights = relative_citation[\"num_cited_x\"].values/relative_citation[\"num_cited_y\"].values\n",
    "relative_citation = relative_citation.assign(weights=weights)\n",
    "relative_citation.head()"
   ]
  },
  {
   "cell_type": "code",
   "execution_count": 10,
   "id": "73d382db-f95c-40a2-ad0f-b883f5a491db",
   "metadata": {
    "execution": {
     "iopub.execute_input": "2024-07-08T16:24:31.753515Z",
     "iopub.status.busy": "2024-07-08T16:24:31.753363Z",
     "iopub.status.idle": "2024-07-08T16:24:31.759688Z",
     "shell.execute_reply": "2024-07-08T16:24:31.759095Z",
     "shell.execute_reply.started": "2024-07-08T16:24:31.753503Z"
    }
   },
   "outputs": [
    {
     "name": "stdout",
     "output_type": "stream",
     "text": [
      "Some immediate but negative effects of openness on product development performance\n",
      "   っs index: 1.38\n",
      "   published in 2011\n",
      "   https://doi.org/10.1016/j.technovation.2010.07.002\n",
      "Measuring science-based science linkage and non-science-based linkage of patents through non-patent references\n",
      "   っs index: 0.516\n",
      "   published in 2015\n",
      "   https://doi.org/10.1016/j.joi.2015.04.004\n",
      "Software survey: VOSviewer, a computer program for bibliometric mapping\n",
      "   っs index: 1.06e+02\n",
      "   published in 2010\n",
      "   https://doi.org/10.1007/s11192-009-0146-3\n"
     ]
    }
   ],
   "source": [
    "sample_papers = relative_citation.sample(n=3, weights=relative_citation[\"weights\"])\n",
    "for v in sample_papers.iterrows():\n",
    "  print(v[1][\"title\"])\n",
    "  print(f\"   っs index: {v[1]['weights']:.3}\")\n",
    "  print(f\"   published in {v[1]['year']}\")\n",
    "  print(f\"   https://doi.org/\"+ v[1][\"doi\"])"
   ]
  },
  {
   "cell_type": "markdown",
   "id": "7038afa6-11ba-40bd-9073-4115573b2d93",
   "metadata": {},
   "source": [
    "## Century of Physics の再現"
   ]
  },
  {
   "cell_type": "markdown",
   "id": "b45e3338-1338-4e01-81e8-754d05aae7f8",
   "metadata": {
    "execution": {
     "iopub.execute_input": "2024-06-26T06:48:33.124708Z",
     "iopub.status.busy": "2024-06-26T06:48:33.124484Z",
     "iopub.status.idle": "2024-06-26T06:48:33.132267Z",
     "shell.execute_reply": "2024-06-26T06:48:33.131758Z",
     "shell.execute_reply.started": "2024-06-26T06:48:33.124688Z"
    }
   },
   "source": [
    "### 引用文献データの読み込み"
   ]
  },
  {
   "cell_type": "code",
   "execution_count": 88,
   "id": "077d7df2-be6f-4e45-811a-2e7b9a922320",
   "metadata": {
    "execution": {
     "iopub.execute_input": "2024-07-08T17:29:31.371668Z",
     "iopub.status.busy": "2024-07-08T17:29:31.371267Z",
     "iopub.status.idle": "2024-07-08T17:34:36.548874Z",
     "shell.execute_reply": "2024-07-08T17:34:36.547852Z",
     "shell.execute_reply.started": "2024-07-08T17:29:31.371646Z"
    }
   },
   "outputs": [],
   "source": [
    "references = pd.read_pickle('/disks/qnap3/shared/scopus-24/data/citation/reference.pickle')"
   ]
  },
  {
   "cell_type": "code",
   "execution_count": 89,
   "id": "1efdd35e-3837-4b1c-9a40-9db24be2d657",
   "metadata": {
    "execution": {
     "iopub.execute_input": "2024-07-08T17:34:36.550729Z",
     "iopub.status.busy": "2024-07-08T17:34:36.550494Z",
     "iopub.status.idle": "2024-07-08T17:34:36.557662Z",
     "shell.execute_reply": "2024-07-08T17:34:36.557260Z",
     "shell.execute_reply.started": "2024-07-08T17:34:36.550704Z"
    }
   },
   "outputs": [
    {
     "data": {
      "text/plain": [
       "eid\n",
       "107    [31399752, 21844515741, 12244249820, 28058226,...\n",
       "110    [4243966752, 347739045, 4243707944, 4243736648...\n",
       "116    [28494972, 4243180110, 1462840, 36449004335, 1...\n",
       "117    [29987636, 33746843679, 2981482, 12044253464, ...\n",
       "118    [33845277887, 549549, 21393006, 37546044, 1267...\n",
       "Name: reference, dtype: object"
      ]
     },
     "execution_count": 89,
     "metadata": {},
     "output_type": "execute_result"
    }
   ],
   "source": [
    "references.head()"
   ]
  },
  {
   "cell_type": "code",
   "execution_count": 90,
   "id": "6975070b-41db-4b56-a0ad-f08a1ddab92a",
   "metadata": {
    "execution": {
     "iopub.execute_input": "2024-07-08T17:34:36.558521Z",
     "iopub.status.busy": "2024-07-08T17:34:36.558370Z",
     "iopub.status.idle": "2024-07-08T17:34:36.561686Z",
     "shell.execute_reply": "2024-07-08T17:34:36.561316Z",
     "shell.execute_reply.started": "2024-07-08T17:34:36.558506Z"
    }
   },
   "outputs": [
    {
     "data": {
      "text/plain": [
       "(70394880,)"
      ]
     },
     "execution_count": 90,
     "metadata": {},
     "output_type": "execute_result"
    }
   ],
   "source": [
    "references.shape"
   ]
  },
  {
   "cell_type": "code",
   "execution_count": 91,
   "id": "d8cb338f-fcbd-4f07-b089-394de5de3ea4",
   "metadata": {
    "execution": {
     "iopub.execute_input": "2024-07-08T17:34:36.563026Z",
     "iopub.status.busy": "2024-07-08T17:34:36.562741Z",
     "iopub.status.idle": "2024-07-08T17:34:38.760684Z",
     "shell.execute_reply": "2024-07-08T17:34:38.759820Z",
     "shell.execute_reply.started": "2024-07-08T17:34:36.563012Z"
    }
   },
   "outputs": [],
   "source": [
    "references = pd.DataFrame(references).reset_index()"
   ]
  },
  {
   "cell_type": "code",
   "execution_count": 92,
   "id": "072f8b92-2c94-4986-9e25-486f2e4b898b",
   "metadata": {
    "execution": {
     "iopub.execute_input": "2024-07-08T17:34:38.761936Z",
     "iopub.status.busy": "2024-07-08T17:34:38.761760Z",
     "iopub.status.idle": "2024-07-08T17:34:55.689166Z",
     "shell.execute_reply": "2024-07-08T17:34:55.688523Z",
     "shell.execute_reply.started": "2024-07-08T17:34:38.761917Z"
    }
   },
   "outputs": [
    {
     "data": {
      "text/html": [
       "<div>\n",
       "<style scoped>\n",
       "    .dataframe tbody tr th:only-of-type {\n",
       "        vertical-align: middle;\n",
       "    }\n",
       "\n",
       "    .dataframe tbody tr th {\n",
       "        vertical-align: top;\n",
       "    }\n",
       "\n",
       "    .dataframe thead th {\n",
       "        text-align: right;\n",
       "    }\n",
       "</style>\n",
       "<table border=\"1\" class=\"dataframe\">\n",
       "  <thead>\n",
       "    <tr style=\"text-align: right;\">\n",
       "      <th></th>\n",
       "      <th>eid</th>\n",
       "      <th>reference</th>\n",
       "    </tr>\n",
       "  </thead>\n",
       "  <tbody>\n",
       "    <tr>\n",
       "      <th>0</th>\n",
       "      <td>107</td>\n",
       "      <td>[31399752, 21844515741, 12244249820, 28058226,...</td>\n",
       "    </tr>\n",
       "    <tr>\n",
       "      <th>1</th>\n",
       "      <td>110</td>\n",
       "      <td>[4243966752, 347739045, 4243707944, 4243736648...</td>\n",
       "    </tr>\n",
       "    <tr>\n",
       "      <th>2</th>\n",
       "      <td>116</td>\n",
       "      <td>[28494972, 4243180110, 1462840, 36449004335, 1...</td>\n",
       "    </tr>\n",
       "    <tr>\n",
       "      <th>3</th>\n",
       "      <td>117</td>\n",
       "      <td>[29987636, 33746843679, 2981482, 12044253464, ...</td>\n",
       "    </tr>\n",
       "    <tr>\n",
       "      <th>4</th>\n",
       "      <td>118</td>\n",
       "      <td>[33845277887, 549549, 21393006, 37546044, 1267...</td>\n",
       "    </tr>\n",
       "  </tbody>\n",
       "</table>\n",
       "</div>"
      ],
      "text/plain": [
       "   eid                                          reference\n",
       "0  107  [31399752, 21844515741, 12244249820, 28058226,...\n",
       "1  110  [4243966752, 347739045, 4243707944, 4243736648...\n",
       "2  116  [28494972, 4243180110, 1462840, 36449004335, 1...\n",
       "3  117  [29987636, 33746843679, 2981482, 12044253464, ...\n",
       "4  118  [33845277887, 549549, 21393006, 37546044, 1267..."
      ]
     },
     "execution_count": 92,
     "metadata": {},
     "output_type": "execute_result"
    }
   ],
   "source": [
    "# doiが存在しないeidを除去\n",
    "references1 = references[references['eid'].isin(papers_eid_ls)]\n",
    "references1.head()"
   ]
  },
  {
   "cell_type": "markdown",
   "id": "eda4221c-e16c-403f-a988-0ea5b440dec1",
   "metadata": {},
   "source": [
    "### 被引用データの読み込み"
   ]
  },
  {
   "cell_type": "code",
   "execution_count": 93,
   "id": "2f430c00-100a-4e13-bfe5-05072afdf3d4",
   "metadata": {
    "execution": {
     "iopub.execute_input": "2024-07-08T17:34:55.690369Z",
     "iopub.status.busy": "2024-07-08T17:34:55.690199Z",
     "iopub.status.idle": "2024-07-08T17:38:52.769945Z",
     "shell.execute_reply": "2024-07-08T17:38:52.768838Z",
     "shell.execute_reply.started": "2024-07-08T17:34:55.690351Z"
    }
   },
   "outputs": [],
   "source": [
    "citedby = pd.read_pickle('/disks/qnap3/shared/scopus-24/data/citation/citedby.pickle')"
   ]
  },
  {
   "cell_type": "code",
   "execution_count": 94,
   "id": "f2d19a28-5a7b-4e39-b238-0bb66e74f272",
   "metadata": {
    "execution": {
     "iopub.execute_input": "2024-07-08T17:38:52.771504Z",
     "iopub.status.busy": "2024-07-08T17:38:52.771318Z",
     "iopub.status.idle": "2024-07-08T17:38:52.779040Z",
     "shell.execute_reply": "2024-07-08T17:38:52.778521Z",
     "shell.execute_reply.started": "2024-07-08T17:38:52.771485Z"
    }
   },
   "outputs": [
    {
     "data": {
      "text/plain": [
       "eid\n",
       "107    [31399752, 32732752, 33005370, 33377770, 34210...\n",
       "110    [35457765, 18744425238, 26944436980, 376490315...\n",
       "116    [705988, 32209178, 34355830, 35158121, 3525129...\n",
       "117    [81418, 284027, 644958, 883190, 1177552, 13151...\n",
       "118    [33915403, 35003880, 35800106, 35936668, 36271...\n",
       "Name: citedby, dtype: object"
      ]
     },
     "execution_count": 94,
     "metadata": {},
     "output_type": "execute_result"
    }
   ],
   "source": [
    "citedby.head()"
   ]
  },
  {
   "cell_type": "code",
   "execution_count": 95,
   "id": "bfb72faf-55a7-4ea7-95f2-1f284da6e6f9",
   "metadata": {
    "execution": {
     "iopub.execute_input": "2024-07-08T17:38:52.779771Z",
     "iopub.status.busy": "2024-07-08T17:38:52.779629Z",
     "iopub.status.idle": "2024-07-08T17:38:54.927788Z",
     "shell.execute_reply": "2024-07-08T17:38:54.926596Z",
     "shell.execute_reply.started": "2024-07-08T17:38:52.779758Z"
    }
   },
   "outputs": [],
   "source": [
    "citedby = pd.DataFrame(citedby).reset_index()"
   ]
  },
  {
   "cell_type": "code",
   "execution_count": 96,
   "id": "2d12f73e-e4e1-4b3a-9f13-0cab608ca46f",
   "metadata": {
    "execution": {
     "iopub.execute_input": "2024-07-08T17:38:54.929477Z",
     "iopub.status.busy": "2024-07-08T17:38:54.929220Z",
     "iopub.status.idle": "2024-07-08T17:39:10.569988Z",
     "shell.execute_reply": "2024-07-08T17:39:10.569248Z",
     "shell.execute_reply.started": "2024-07-08T17:38:54.929456Z"
    }
   },
   "outputs": [
    {
     "data": {
      "text/html": [
       "<div>\n",
       "<style scoped>\n",
       "    .dataframe tbody tr th:only-of-type {\n",
       "        vertical-align: middle;\n",
       "    }\n",
       "\n",
       "    .dataframe tbody tr th {\n",
       "        vertical-align: top;\n",
       "    }\n",
       "\n",
       "    .dataframe thead th {\n",
       "        text-align: right;\n",
       "    }\n",
       "</style>\n",
       "<table border=\"1\" class=\"dataframe\">\n",
       "  <thead>\n",
       "    <tr style=\"text-align: right;\">\n",
       "      <th></th>\n",
       "      <th>eid</th>\n",
       "      <th>citedby</th>\n",
       "    </tr>\n",
       "  </thead>\n",
       "  <tbody>\n",
       "    <tr>\n",
       "      <th>0</th>\n",
       "      <td>107</td>\n",
       "      <td>[31399752, 32732752, 33005370, 33377770, 34210...</td>\n",
       "    </tr>\n",
       "    <tr>\n",
       "      <th>1</th>\n",
       "      <td>110</td>\n",
       "      <td>[35457765, 18744425238, 26944436980, 376490315...</td>\n",
       "    </tr>\n",
       "    <tr>\n",
       "      <th>2</th>\n",
       "      <td>116</td>\n",
       "      <td>[705988, 32209178, 34355830, 35158121, 3525129...</td>\n",
       "    </tr>\n",
       "    <tr>\n",
       "      <th>3</th>\n",
       "      <td>117</td>\n",
       "      <td>[81418, 284027, 644958, 883190, 1177552, 13151...</td>\n",
       "    </tr>\n",
       "    <tr>\n",
       "      <th>4</th>\n",
       "      <td>118</td>\n",
       "      <td>[33915403, 35003880, 35800106, 35936668, 36271...</td>\n",
       "    </tr>\n",
       "  </tbody>\n",
       "</table>\n",
       "</div>"
      ],
      "text/plain": [
       "   eid                                            citedby\n",
       "0  107  [31399752, 32732752, 33005370, 33377770, 34210...\n",
       "1  110  [35457765, 18744425238, 26944436980, 376490315...\n",
       "2  116  [705988, 32209178, 34355830, 35158121, 3525129...\n",
       "3  117  [81418, 284027, 644958, 883190, 1177552, 13151...\n",
       "4  118  [33915403, 35003880, 35800106, 35936668, 36271..."
      ]
     },
     "execution_count": 96,
     "metadata": {},
     "output_type": "execute_result"
    }
   ],
   "source": [
    "# doiが存在しないeidを除去\n",
    "citedby1 = citedby[citedby['eid'].isin(papers_eid_ls)]\n",
    "citedby1.head()"
   ]
  },
  {
   "cell_type": "markdown",
   "id": "03df3bb7-9374-4296-9b99-e1a3919eb4de",
   "metadata": {},
   "source": [
    "### 引用文献中の割合"
   ]
  },
  {
   "cell_type": "markdown",
   "id": "e11fac8d-2a4d-4574-bf95-c468fa2cacf0",
   "metadata": {},
   "source": [
    "#### nullの取得\n",
    "- 単純な引用比率(そのジャーナルの論文数/全論文数)"
   ]
  },
  {
   "cell_type": "code",
   "execution_count": 27,
   "id": "7b1f753c-9ebc-4b07-ae30-03bb67064378",
   "metadata": {
    "execution": {
     "iopub.execute_input": "2024-07-08T16:36:29.558885Z",
     "iopub.status.busy": "2024-07-08T16:36:29.558351Z",
     "iopub.status.idle": "2024-07-08T16:36:30.675482Z",
     "shell.execute_reply": "2024-07-08T16:36:30.674024Z",
     "shell.execute_reply.started": "2024-07-08T16:36:29.558861Z"
    }
   },
   "outputs": [
    {
     "data": {
      "text/html": [
       "<div>\n",
       "<style scoped>\n",
       "    .dataframe tbody tr th:only-of-type {\n",
       "        vertical-align: middle;\n",
       "    }\n",
       "\n",
       "    .dataframe tbody tr th {\n",
       "        vertical-align: top;\n",
       "    }\n",
       "\n",
       "    .dataframe thead th {\n",
       "        text-align: right;\n",
       "    }\n",
       "</style>\n",
       "<table border=\"1\" class=\"dataframe\">\n",
       "  <thead>\n",
       "    <tr style=\"text-align: right;\">\n",
       "      <th></th>\n",
       "      <th>journal</th>\n",
       "      <th>count</th>\n",
       "      <th>null_ratio</th>\n",
       "    </tr>\n",
       "  </thead>\n",
       "  <tbody>\n",
       "    <tr>\n",
       "      <th>0</th>\n",
       "      <td>12001</td>\n",
       "      <td>3585</td>\n",
       "      <td>0.000053</td>\n",
       "    </tr>\n",
       "    <tr>\n",
       "      <th>1</th>\n",
       "      <td>12002</td>\n",
       "      <td>1182</td>\n",
       "      <td>0.000017</td>\n",
       "    </tr>\n",
       "    <tr>\n",
       "      <th>2</th>\n",
       "      <td>12004</td>\n",
       "      <td>885</td>\n",
       "      <td>0.000013</td>\n",
       "    </tr>\n",
       "    <tr>\n",
       "      <th>3</th>\n",
       "      <td>12005</td>\n",
       "      <td>2919</td>\n",
       "      <td>0.000043</td>\n",
       "    </tr>\n",
       "    <tr>\n",
       "      <th>4</th>\n",
       "      <td>12006</td>\n",
       "      <td>3467</td>\n",
       "      <td>0.000051</td>\n",
       "    </tr>\n",
       "  </tbody>\n",
       "</table>\n",
       "</div>"
      ],
      "text/plain": [
       "   journal  count  null_ratio\n",
       "0    12001   3585    0.000053\n",
       "1    12002   1182    0.000017\n",
       "2    12004    885    0.000013\n",
       "3    12005   2919    0.000043\n",
       "4    12006   3467    0.000051"
      ]
     },
     "execution_count": 27,
     "metadata": {},
     "output_type": "execute_result"
    }
   ],
   "source": [
    "journal_count = papers.groupby(['journal']).size()\n",
    "journal_count = pd.DataFrame(journal_count, columns=['count']).reset_index()\n",
    "all_size = journal_count['count'].sum()\n",
    "journal_count['null_ratio'] = journal_count['count']/all_size\n",
    "\n",
    "journal_count.head()"
   ]
  },
  {
   "cell_type": "code",
   "execution_count": 28,
   "id": "96421502-af36-4e41-8087-25b71fa20a3b",
   "metadata": {
    "execution": {
     "iopub.execute_input": "2024-07-08T16:36:30.678478Z",
     "iopub.status.busy": "2024-07-08T16:36:30.678257Z",
     "iopub.status.idle": "2024-07-08T16:36:30.694316Z",
     "shell.execute_reply": "2024-07-08T16:36:30.693726Z",
     "shell.execute_reply.started": "2024-07-08T16:36:30.678455Z"
    }
   },
   "outputs": [
    {
     "data": {
      "text/html": [
       "<div>\n",
       "<style scoped>\n",
       "    .dataframe tbody tr th:only-of-type {\n",
       "        vertical-align: middle;\n",
       "    }\n",
       "\n",
       "    .dataframe tbody tr th {\n",
       "        vertical-align: top;\n",
       "    }\n",
       "\n",
       "    .dataframe thead th {\n",
       "        text-align: right;\n",
       "    }\n",
       "</style>\n",
       "<table border=\"1\" class=\"dataframe\">\n",
       "  <thead>\n",
       "    <tr style=\"text-align: right;\">\n",
       "      <th></th>\n",
       "      <th>journal</th>\n",
       "      <th>count</th>\n",
       "      <th>null_ratio</th>\n",
       "    </tr>\n",
       "  </thead>\n",
       "  <tbody>\n",
       "    <tr>\n",
       "      <th>1750</th>\n",
       "      <td>14726</td>\n",
       "      <td>2556</td>\n",
       "      <td>0.000038</td>\n",
       "    </tr>\n",
       "    <tr>\n",
       "      <th>6775</th>\n",
       "      <td>22894</td>\n",
       "      <td>950</td>\n",
       "      <td>0.000014</td>\n",
       "    </tr>\n",
       "    <tr>\n",
       "      <th>6778</th>\n",
       "      <td>22900</td>\n",
       "      <td>3968</td>\n",
       "      <td>0.000058</td>\n",
       "    </tr>\n",
       "    <tr>\n",
       "      <th>7629</th>\n",
       "      <td>24222</td>\n",
       "      <td>7146</td>\n",
       "      <td>0.000105</td>\n",
       "    </tr>\n",
       "    <tr>\n",
       "      <th>19780</th>\n",
       "      <td>5100155103</td>\n",
       "      <td>1332</td>\n",
       "      <td>0.000020</td>\n",
       "    </tr>\n",
       "    <tr>\n",
       "      <th>285204</th>\n",
       "      <td>21101062805</td>\n",
       "      <td>278</td>\n",
       "      <td>0.000004</td>\n",
       "    </tr>\n",
       "  </tbody>\n",
       "</table>\n",
       "</div>"
      ],
      "text/plain": [
       "            journal  count  null_ratio\n",
       "1750          14726   2556    0.000038\n",
       "6775          22894    950    0.000014\n",
       "6778          22900   3968    0.000058\n",
       "7629          24222   7146    0.000105\n",
       "19780    5100155103   1332    0.000020\n",
       "285204  21101062805    278    0.000004"
      ]
     },
     "execution_count": 28,
     "metadata": {},
     "output_type": "execute_result"
    }
   ],
   "source": [
    "# SciSciジャーナル\n",
    "journal_count[journal_count[\"journal\"].isin(journal_subset)]"
   ]
  },
  {
   "cell_type": "markdown",
   "id": "c7082b59-a791-4a7e-aa34-1add30b69378",
   "metadata": {},
   "source": [
    "### SciSciRatioの取得"
   ]
  },
  {
   "cell_type": "code",
   "execution_count": 29,
   "id": "f269249f-02c7-496e-a6a6-ca3e6407888e",
   "metadata": {
    "execution": {
     "iopub.execute_input": "2024-07-08T16:36:31.355644Z",
     "iopub.status.busy": "2024-07-08T16:36:31.355064Z",
     "iopub.status.idle": "2024-07-08T16:36:31.367555Z",
     "shell.execute_reply": "2024-07-08T16:36:31.367157Z",
     "shell.execute_reply.started": "2024-07-08T16:36:31.355623Z"
    }
   },
   "outputs": [
    {
     "data": {
      "text/plain": [
       "0.00023914180537357974"
      ]
     },
     "execution_count": 29,
     "metadata": {},
     "output_type": "execute_result"
    }
   ],
   "source": [
    "#ランダムな引用だとSciSci論文は以下の確率で引用される\n",
    "scisci_ratio = journal_count[journal_count[\"journal\"].isin(journal_subset)]['count'].sum()/all_size\n",
    "scisci_ratio"
   ]
  },
  {
   "cell_type": "code",
   "execution_count": null,
   "id": "9da87e15-d31a-4f36-a3cc-9b64c80683e7",
   "metadata": {},
   "outputs": [],
   "source": []
  },
  {
   "cell_type": "markdown",
   "id": "b27664c9-dab8-4481-bf90-4a88489e8f8f",
   "metadata": {
    "jp-MarkdownHeadingCollapsed": true
   },
   "source": [
    "#### 引用文献中のSci Sci論文の比率の取得"
   ]
  },
  {
   "cell_type": "code",
   "execution_count": 30,
   "id": "be8e552a-f361-4d7b-bac2-cac0cc439027",
   "metadata": {
    "execution": {
     "iopub.execute_input": "2024-07-08T16:36:33.125185Z",
     "iopub.status.busy": "2024-07-08T16:36:33.124752Z",
     "iopub.status.idle": "2024-07-08T16:36:33.127763Z",
     "shell.execute_reply": "2024-07-08T16:36:33.127343Z",
     "shell.execute_reply.started": "2024-07-08T16:36:33.125170Z"
    }
   },
   "outputs": [],
   "source": [
    "#トップ総合誌\n",
    "\n",
    "genreral_journal_subset = [\n",
    "  # # General\n",
    "  21100838541, # Nature Human Behaviour\n",
    "  19700182758, # Nature Communications\n",
    "  23571, # Science\n",
    "  21121 # Proceedings of the National Academy of Science\n",
    "] "
   ]
  },
  {
   "cell_type": "code",
   "execution_count": 31,
   "id": "3b63f57b-2611-4255-86db-d7195defcf65",
   "metadata": {
    "execution": {
     "iopub.execute_input": "2024-07-08T16:36:33.404880Z",
     "iopub.status.busy": "2024-07-08T16:36:33.404605Z",
     "iopub.status.idle": "2024-07-08T16:36:34.000840Z",
     "shell.execute_reply": "2024-07-08T16:36:34.000284Z",
     "shell.execute_reply.started": "2024-07-08T16:36:33.404866Z"
    }
   },
   "outputs": [
    {
     "data": {
      "text/html": [
       "<div>\n",
       "<style scoped>\n",
       "    .dataframe tbody tr th:only-of-type {\n",
       "        vertical-align: middle;\n",
       "    }\n",
       "\n",
       "    .dataframe tbody tr th {\n",
       "        vertical-align: top;\n",
       "    }\n",
       "\n",
       "    .dataframe thead th {\n",
       "        text-align: right;\n",
       "    }\n",
       "</style>\n",
       "<table border=\"1\" class=\"dataframe\">\n",
       "  <thead>\n",
       "    <tr style=\"text-align: right;\">\n",
       "      <th></th>\n",
       "      <th>eid</th>\n",
       "      <th>num_cited</th>\n",
       "      <th>doi</th>\n",
       "      <th>title</th>\n",
       "      <th>journal</th>\n",
       "      <th>year</th>\n",
       "    </tr>\n",
       "  </thead>\n",
       "  <tbody>\n",
       "    <tr>\n",
       "      <th>1452</th>\n",
       "      <td>1452</td>\n",
       "      <td>67</td>\n",
       "      <td>10.1126/science.179.4070.298</td>\n",
       "      <td>Rickettsia-like bacterium associated with Pier...</td>\n",
       "      <td>23571</td>\n",
       "      <td>1973</td>\n",
       "    </tr>\n",
       "    <tr>\n",
       "      <th>1706</th>\n",
       "      <td>1706</td>\n",
       "      <td>70</td>\n",
       "      <td>10.1126/science.246.4930.649</td>\n",
       "      <td>X-ray diffraction to 302 gigapascals: High-pre...</td>\n",
       "      <td>23571</td>\n",
       "      <td>1989</td>\n",
       "    </tr>\n",
       "    <tr>\n",
       "      <th>3575</th>\n",
       "      <td>3575</td>\n",
       "      <td>182</td>\n",
       "      <td>10.1126/science.218.4577.1082</td>\n",
       "      <td>Pathfinding by peripheral pioneer neurons in g...</td>\n",
       "      <td>23571</td>\n",
       "      <td>1982</td>\n",
       "    </tr>\n",
       "    <tr>\n",
       "      <th>3605</th>\n",
       "      <td>3605</td>\n",
       "      <td>71</td>\n",
       "      <td>10.1073/pnas.86.20.7814</td>\n",
       "      <td>Isolation of the α subunits of GTP-binding reg...</td>\n",
       "      <td>21121</td>\n",
       "      <td>1989</td>\n",
       "    </tr>\n",
       "    <tr>\n",
       "      <th>4283</th>\n",
       "      <td>4283</td>\n",
       "      <td>30</td>\n",
       "      <td>10.1126/science.187.4182.1193</td>\n",
       "      <td>True polar wander since the early cretaceous</td>\n",
       "      <td>23571</td>\n",
       "      <td>1975</td>\n",
       "    </tr>\n",
       "  </tbody>\n",
       "</table>\n",
       "</div>"
      ],
      "text/plain": [
       "       eid  num_cited                            doi  \\\n",
       "1452  1452         67   10.1126/science.179.4070.298   \n",
       "1706  1706         70   10.1126/science.246.4930.649   \n",
       "3575  3575        182  10.1126/science.218.4577.1082   \n",
       "3605  3605         71        10.1073/pnas.86.20.7814   \n",
       "4283  4283         30  10.1126/science.187.4182.1193   \n",
       "\n",
       "                                                  title  journal  year  \n",
       "1452  Rickettsia-like bacterium associated with Pier...    23571  1973  \n",
       "1706  X-ray diffraction to 302 gigapascals: High-pre...    23571  1989  \n",
       "3575  Pathfinding by peripheral pioneer neurons in g...    23571  1982  \n",
       "3605  Isolation of the α subunits of GTP-binding reg...    21121  1989  \n",
       "4283       True polar wander since the early cretaceous    23571  1975  "
      ]
     },
     "execution_count": 31,
     "metadata": {},
     "output_type": "execute_result"
    }
   ],
   "source": [
    "target_papers = papers[papers[\"journal\"].isin(genreral_journal_subset)].fillna(0)\n",
    "target_papers.head()"
   ]
  },
  {
   "cell_type": "code",
   "execution_count": 32,
   "id": "63823c8f-55ca-43b3-99f5-2ffce2af39e5",
   "metadata": {
    "execution": {
     "iopub.execute_input": "2024-07-08T16:36:34.002146Z",
     "iopub.status.busy": "2024-07-08T16:36:34.001964Z",
     "iopub.status.idle": "2024-07-08T16:36:34.004678Z",
     "shell.execute_reply": "2024-07-08T16:36:34.004281Z",
     "shell.execute_reply.started": "2024-07-08T16:36:34.002128Z"
    }
   },
   "outputs": [],
   "source": [
    "# 一流総合誌の論文eidリスト\n",
    "target_papers_eid_ls = target_papers.index.values"
   ]
  },
  {
   "cell_type": "markdown",
   "id": "4cd80f89-0721-46e6-84d3-fced06d3544a",
   "metadata": {},
   "source": [
    "### SciSci論文を引用or被引用している論文の取得"
   ]
  },
  {
   "cell_type": "code",
   "execution_count": 50,
   "id": "ec770620-44b2-45ad-bd42-c4306b767449",
   "metadata": {
    "execution": {
     "iopub.execute_input": "2024-07-08T16:52:31.143809Z",
     "iopub.status.busy": "2024-07-08T16:52:31.143356Z",
     "iopub.status.idle": "2024-07-08T16:52:31.148614Z",
     "shell.execute_reply": "2024-07-08T16:52:31.148154Z",
     "shell.execute_reply.started": "2024-07-08T16:52:31.143785Z"
    }
   },
   "outputs": [],
   "source": [
    "# SciSciジャーナルの論文eidリスト\n",
    "core_scisci_paper_eid_ls = papers_subset['eid'].to_list()"
   ]
  },
  {
   "cell_type": "code",
   "execution_count": 97,
   "id": "8ab68d9b-eae7-473b-8e99-adb86a239c84",
   "metadata": {
    "execution": {
     "iopub.execute_input": "2024-07-08T17:39:30.978137Z",
     "iopub.status.busy": "2024-07-08T17:39:30.977549Z",
     "iopub.status.idle": "2024-07-08T17:40:17.230514Z",
     "shell.execute_reply": "2024-07-08T17:40:17.229351Z",
     "shell.execute_reply.started": "2024-07-08T17:39:30.978113Z"
    }
   },
   "outputs": [],
   "source": [
    "# references1は'eid'がカラムにあるので、indexにセット\n",
    "ref_tmp = references1.set_index('eid')\n",
    "ref_dict = ref_tmp.to_dict()"
   ]
  },
  {
   "cell_type": "code",
   "execution_count": 98,
   "id": "31ab9c15-a6f5-4a4e-a5e4-e99d70c33171",
   "metadata": {
    "execution": {
     "iopub.execute_input": "2024-07-08T17:40:17.232404Z",
     "iopub.status.busy": "2024-07-08T17:40:17.232224Z",
     "iopub.status.idle": "2024-07-08T17:40:57.708542Z",
     "shell.execute_reply": "2024-07-08T17:40:57.707496Z",
     "shell.execute_reply.started": "2024-07-08T17:40:17.232385Z"
    }
   },
   "outputs": [],
   "source": [
    "# 同上\n",
    "citedby_tmp = citedby1.set_index('eid')\n",
    "citedby_dict = citedby_tmp.to_dict()"
   ]
  },
  {
   "cell_type": "code",
   "execution_count": 99,
   "id": "8325493e-95e6-4a74-ae44-fea58f6d958a",
   "metadata": {
    "execution": {
     "iopub.execute_input": "2024-07-08T17:41:31.655354Z",
     "iopub.status.busy": "2024-07-08T17:41:31.654900Z",
     "iopub.status.idle": "2024-07-08T17:43:34.523513Z",
     "shell.execute_reply": "2024-07-08T17:43:34.522590Z",
     "shell.execute_reply.started": "2024-07-08T17:41:31.655330Z"
    }
   },
   "outputs": [],
   "source": [
    "references2 = references1.explode('reference')"
   ]
  },
  {
   "cell_type": "code",
   "execution_count": 100,
   "id": "9e9528c6-32ca-478f-a2b2-0543c7c407ff",
   "metadata": {
    "execution": {
     "iopub.execute_input": "2024-07-08T17:43:34.525169Z",
     "iopub.status.busy": "2024-07-08T17:43:34.524989Z",
     "iopub.status.idle": "2024-07-08T17:45:45.321667Z",
     "shell.execute_reply": "2024-07-08T17:45:45.320756Z",
     "shell.execute_reply.started": "2024-07-08T17:43:34.525151Z"
    }
   },
   "outputs": [],
   "source": [
    "citedby2 = citedby1.explode('citedby')"
   ]
  },
  {
   "cell_type": "code",
   "execution_count": 103,
   "id": "0d4d8dd9-6432-4afc-8375-13e7ac7088be",
   "metadata": {
    "execution": {
     "iopub.execute_input": "2024-07-08T17:45:45.336192Z",
     "iopub.status.busy": "2024-07-08T17:45:45.336038Z",
     "iopub.status.idle": "2024-07-08T17:47:54.489087Z",
     "shell.execute_reply": "2024-07-08T17:47:54.488171Z",
     "shell.execute_reply.started": "2024-07-08T17:45:45.336180Z"
    }
   },
   "outputs": [],
   "source": [
    "### SciSci-Core論文を引用or被引用されているか\n",
    "\n",
    "ref_scisci = references2[references2['reference'].isin(core_scisci_paper_eid_ls)]\n",
    "\n",
    "citedby_scisci = citedby2[citedby2['citedby'].isin(core_scisci_paper_eid_ls)]"
   ]
  },
  {
   "cell_type": "code",
   "execution_count": 111,
   "id": "2fb15020-d355-457b-934f-f7c0a41ef3ce",
   "metadata": {
    "execution": {
     "iopub.execute_input": "2024-07-08T17:48:54.121511Z",
     "iopub.status.busy": "2024-07-08T17:48:54.120954Z",
     "iopub.status.idle": "2024-07-08T17:48:54.192709Z",
     "shell.execute_reply": "2024-07-08T17:48:54.191952Z",
     "shell.execute_reply.started": "2024-07-08T17:48:54.121492Z"
    }
   },
   "outputs": [],
   "source": [
    "tmp = ref_scisci.drop_duplicates('eid')\n",
    "ref_scisci_eid_ls = tmp.eid.to_list()"
   ]
  },
  {
   "cell_type": "code",
   "execution_count": 112,
   "id": "b68b2f44-21eb-419a-a00a-b9f84472755f",
   "metadata": {
    "execution": {
     "iopub.execute_input": "2024-07-08T17:48:54.288086Z",
     "iopub.status.busy": "2024-07-08T17:48:54.287755Z",
     "iopub.status.idle": "2024-07-08T17:48:54.339559Z",
     "shell.execute_reply": "2024-07-08T17:48:54.339025Z",
     "shell.execute_reply.started": "2024-07-08T17:48:54.288067Z"
    }
   },
   "outputs": [],
   "source": [
    "tmp = citedby_scisci.drop_duplicates('eid')\n",
    "citedby_scisci_eid_ls = tmp.eid.to_list()"
   ]
  },
  {
   "cell_type": "code",
   "execution_count": 113,
   "id": "46167d36-75c1-4c72-9951-4bd9b39d5253",
   "metadata": {
    "execution": {
     "iopub.execute_input": "2024-07-08T17:48:54.635090Z",
     "iopub.status.busy": "2024-07-08T17:48:54.634666Z",
     "iopub.status.idle": "2024-07-08T17:49:16.280339Z",
     "shell.execute_reply": "2024-07-08T17:49:16.279408Z",
     "shell.execute_reply.started": "2024-07-08T17:48:54.635072Z"
    }
   },
   "outputs": [],
   "source": [
    "# scisci論文を引用or被引用しているeidリスト（対象はscopus24全件から）\n",
    "scisci_candidate_eid_ls_tmp = list(set(list(ref_scisci_eid_ls)+list(citedby_scisci_eid_ls)))\n",
    "\n",
    "# 上のcore_scisci(Journal of Infomaticsなど)に含まれている論文を除去\n",
    "scisci_candidate_ls = []\n",
    "\n",
    "for i in scisci_candidate_eid_ls_tmp:\n",
    "    if i not in core_scisci_paper_eid_ls:\n",
    "        scisci_candidate_ls.append(i)"
   ]
  },
  {
   "cell_type": "markdown",
   "id": "d4ed2196-fa15-4c5a-82fc-a7c9573374bd",
   "metadata": {},
   "source": [
    "### Inter SciSci 判定アルゴリズム"
   ]
  },
  {
   "cell_type": "code",
   "execution_count": 128,
   "id": "778dfd74-82a0-4f0a-bc57-47aec2f49c57",
   "metadata": {
    "execution": {
     "iopub.execute_input": "2024-07-08T18:04:23.066336Z",
     "iopub.status.busy": "2024-07-08T18:04:23.065886Z",
     "iopub.status.idle": "2024-07-08T18:14:23.103755Z",
     "shell.execute_reply": "2024-07-08T18:14:23.103009Z",
     "shell.execute_reply.started": "2024-07-08T18:04:23.066313Z"
    }
   },
   "outputs": [
    {
     "name": "stderr",
     "output_type": "stream",
     "text": [
      "100%|██████████████████████████████████| 332832/332832 [10:00<00:00, 554.69it/s]\n"
     ]
    }
   ],
   "source": [
    "ISci_eid_ls = []\n",
    "not_in_ref_dict_keys = 0\n",
    "not_in_citedby_dict_keys = 0\n",
    "\n",
    "\n",
    "for eid in tqdm(scisci_candidate_ls):\n",
    "    if eid in ref_dict['reference'].keys():\n",
    "        target_ref_ls = ref_dict['reference'][eid] #対象論文(scisci論文が一回でも引用している論文)\n",
    "        mask_ref = np.isin(target_ref_ls, core_scisci_paper_eid_ls) #その論文が何回scisci論文を引用しているか\n",
    "        total_count_ref = np.sum(mask_ref)\n",
    "        scisci_ratio_ref = total_count_ref/len(target_ref_ls)\n",
    "    else:\n",
    "        scisci_ratio_ref = 0\n",
    "        not_in_ref_dict_keys += 1\n",
    "    if eid in citedby_dict['citedby'].keys():\n",
    "        target_citedby_ls = citedby_dict['citedby'][eid] #対象論文(scisci論文を一回でも引用している論文)\n",
    "        mask_citedby = np.isin(target_citedby_ls, core_scisci_paper_eid_ls) #その論文が何回scisci論文に引用されているか\n",
    "        total_count_citedby = np.sum(mask_citedby)\n",
    "        scisci_ratio_citedby = total_count_citedby/len(target_citedby_ls)\n",
    "    else:\n",
    "        scisci_ratio_citedby = 0\n",
    "        not_in_citedby_dict_keys += 1\n",
    "    \n",
    "    if scisci_ratio_ref >= scisci_ratio and scisci_ratio_citedby >= scisci_ratio:\n",
    "        ISci_eid_ls.append(eid)\n",
    "    else:\n",
    "        continue"
   ]
  },
  {
   "cell_type": "markdown",
   "id": "ade1ecee-90a5-4606-ad78-f9ad7483bc09",
   "metadata": {},
   "source": [
    "#### デバッグ用"
   ]
  },
  {
   "cell_type": "code",
   "execution_count": 129,
   "id": "b4c5a039-39c9-42f6-9969-2437aa4be138",
   "metadata": {
    "execution": {
     "iopub.execute_input": "2024-07-08T18:14:41.265000Z",
     "iopub.status.busy": "2024-07-08T18:14:41.264549Z",
     "iopub.status.idle": "2024-07-08T18:14:41.269918Z",
     "shell.execute_reply": "2024-07-08T18:14:41.269437Z",
     "shell.execute_reply.started": "2024-07-08T18:14:41.264977Z"
    }
   },
   "outputs": [
    {
     "data": {
      "text/plain": [
       "34065"
      ]
     },
     "execution_count": 129,
     "metadata": {},
     "output_type": "execute_result"
    }
   ],
   "source": [
    "len(ISci_eid_ls)"
   ]
  },
  {
   "cell_type": "code",
   "execution_count": 130,
   "id": "569f8f0b-5a70-45a8-aabf-ad7da27e66c9",
   "metadata": {
    "execution": {
     "iopub.execute_input": "2024-07-08T18:14:51.418295Z",
     "iopub.status.busy": "2024-07-08T18:14:51.417886Z",
     "iopub.status.idle": "2024-07-08T18:14:51.422319Z",
     "shell.execute_reply": "2024-07-08T18:14:51.421875Z",
     "shell.execute_reply.started": "2024-07-08T18:14:51.418275Z"
    }
   },
   "outputs": [
    {
     "data": {
      "text/plain": [
       "9842"
      ]
     },
     "execution_count": 130,
     "metadata": {},
     "output_type": "execute_result"
    }
   ],
   "source": [
    "not_in_ref_dict_keys"
   ]
  },
  {
   "cell_type": "code",
   "execution_count": 131,
   "id": "151fd068-ffc7-4268-b0ff-24be7d1106a8",
   "metadata": {
    "execution": {
     "iopub.execute_input": "2024-07-08T18:14:57.357448Z",
     "iopub.status.busy": "2024-07-08T18:14:57.355812Z",
     "iopub.status.idle": "2024-07-08T18:14:57.361335Z",
     "shell.execute_reply": "2024-07-08T18:14:57.360934Z",
     "shell.execute_reply.started": "2024-07-08T18:14:57.357417Z"
    }
   },
   "outputs": [
    {
     "data": {
      "text/plain": [
       "31362"
      ]
     },
     "execution_count": 131,
     "metadata": {},
     "output_type": "execute_result"
    }
   ],
   "source": [
    "not_in_citedby_dict_keys"
   ]
  },
  {
   "cell_type": "code",
   "execution_count": 133,
   "id": "14c7f8bc-93a4-40f7-a7a5-306203bffaf7",
   "metadata": {
    "execution": {
     "iopub.execute_input": "2024-07-08T18:15:10.980338Z",
     "iopub.status.busy": "2024-07-08T18:15:10.979880Z",
     "iopub.status.idle": "2024-07-08T18:15:10.984105Z",
     "shell.execute_reply": "2024-07-08T18:15:10.983450Z",
     "shell.execute_reply.started": "2024-07-08T18:15:10.980320Z"
    }
   },
   "outputs": [
    {
     "data": {
      "text/plain": [
       "332832"
      ]
     },
     "execution_count": 133,
     "metadata": {},
     "output_type": "execute_result"
    }
   ],
   "source": [
    "len(scisci_candidate_ls)"
   ]
  },
  {
   "cell_type": "code",
   "execution_count": 127,
   "id": "26e94ff0-f4d9-4fda-821b-e8ed573ed25b",
   "metadata": {
    "execution": {
     "iopub.execute_input": "2024-07-08T18:00:46.409247Z",
     "iopub.status.busy": "2024-07-08T18:00:46.408830Z",
     "iopub.status.idle": "2024-07-08T18:00:58.036360Z",
     "shell.execute_reply": "2024-07-08T18:00:58.035648Z",
     "shell.execute_reply.started": "2024-07-08T18:00:46.409227Z"
    }
   },
   "outputs": [
    {
     "data": {
      "text/html": [
       "<div>\n",
       "<style scoped>\n",
       "    .dataframe tbody tr th:only-of-type {\n",
       "        vertical-align: middle;\n",
       "    }\n",
       "\n",
       "    .dataframe tbody tr th {\n",
       "        vertical-align: top;\n",
       "    }\n",
       "\n",
       "    .dataframe thead th {\n",
       "        text-align: right;\n",
       "    }\n",
       "</style>\n",
       "<table border=\"1\" class=\"dataframe\">\n",
       "  <thead>\n",
       "    <tr style=\"text-align: right;\">\n",
       "      <th></th>\n",
       "      <th>eid</th>\n",
       "      <th>num_cited</th>\n",
       "      <th>doi</th>\n",
       "      <th>title</th>\n",
       "      <th>journal</th>\n",
       "      <th>year</th>\n",
       "    </tr>\n",
       "  </thead>\n",
       "  <tbody>\n",
       "    <tr>\n",
       "      <th>85091942429</th>\n",
       "      <td>85091942429</td>\n",
       "      <td>24</td>\n",
       "      <td>10.1093/jopart/muaa002</td>\n",
       "      <td>Government as network catalyst: Accelerating s...</td>\n",
       "      <td>15823</td>\n",
       "      <td>2020</td>\n",
       "    </tr>\n",
       "    <tr>\n",
       "      <th>73849110583</th>\n",
       "      <td>73849110583</td>\n",
       "      <td>481</td>\n",
       "      <td>10.1002/smj.806</td>\n",
       "      <td>Innovation search of new ventures in a technol...</td>\n",
       "      <td>23157</td>\n",
       "      <td>2010</td>\n",
       "    </tr>\n",
       "    <tr>\n",
       "      <th>84958773336</th>\n",
       "      <td>84958773336</td>\n",
       "      <td>74</td>\n",
       "      <td>10.1007/s11187-016-9706-0</td>\n",
       "      <td>Public-sector entrepreneurship and the creatio...</td>\n",
       "      <td>29104</td>\n",
       "      <td>2016</td>\n",
       "    </tr>\n",
       "    <tr>\n",
       "      <th>85041610915</th>\n",
       "      <td>85041610915</td>\n",
       "      <td>80</td>\n",
       "      <td>10.1145/3173550</td>\n",
       "      <td>The next phase in the digital revolution: Inte...</td>\n",
       "      <td>13675</td>\n",
       "      <td>2018</td>\n",
       "    </tr>\n",
       "    <tr>\n",
       "      <th>84957724865</th>\n",
       "      <td>84957724865</td>\n",
       "      <td>3</td>\n",
       "      <td>10.1080/13600818.2015.1111319</td>\n",
       "      <td>An Indigenous Innovation: An Example from Mobi...</td>\n",
       "      <td>15349</td>\n",
       "      <td>2016</td>\n",
       "    </tr>\n",
       "    <tr>\n",
       "      <th>84864401602</th>\n",
       "      <td>84864401602</td>\n",
       "      <td>773</td>\n",
       "      <td>10.1002/asi.22688</td>\n",
       "      <td>SciMAT: A new science mapping analysis softwar...</td>\n",
       "      <td>12098</td>\n",
       "      <td>2012</td>\n",
       "    </tr>\n",
       "    <tr>\n",
       "      <th>85083554077</th>\n",
       "      <td>85083554077</td>\n",
       "      <td>127</td>\n",
       "      <td>10.1080/0960085X.2020.1747365</td>\n",
       "      <td>Digital M&amp;A, digital innovation, and firm perf...</td>\n",
       "      <td>15074</td>\n",
       "      <td>2021</td>\n",
       "    </tr>\n",
       "    <tr>\n",
       "      <th>33748418886</th>\n",
       "      <td>33748418886</td>\n",
       "      <td>137</td>\n",
       "      <td>10.2307/41166358</td>\n",
       "      <td>Managing creativity in small worlds</td>\n",
       "      <td>21341</td>\n",
       "      <td>2006</td>\n",
       "    </tr>\n",
       "    <tr>\n",
       "      <th>34250686798</th>\n",
       "      <td>34250686798</td>\n",
       "      <td>306</td>\n",
       "      <td>10.1002/jae.992</td>\n",
       "      <td>The relationship between R&amp;D collaboration, su...</td>\n",
       "      <td>28964</td>\n",
       "      <td>2007</td>\n",
       "    </tr>\n",
       "    <tr>\n",
       "      <th>77956383181</th>\n",
       "      <td>77956383181</td>\n",
       "      <td>352</td>\n",
       "      <td>10.1002/asi.21368</td>\n",
       "      <td>Science overlay maps: A new tool for research ...</td>\n",
       "      <td>12098</td>\n",
       "      <td>2010</td>\n",
       "    </tr>\n",
       "  </tbody>\n",
       "</table>\n",
       "</div>"
      ],
      "text/plain": [
       "                     eid  num_cited                            doi  \\\n",
       "85091942429  85091942429         24         10.1093/jopart/muaa002   \n",
       "73849110583  73849110583        481                10.1002/smj.806   \n",
       "84958773336  84958773336         74      10.1007/s11187-016-9706-0   \n",
       "85041610915  85041610915         80                10.1145/3173550   \n",
       "84957724865  84957724865          3  10.1080/13600818.2015.1111319   \n",
       "84864401602  84864401602        773              10.1002/asi.22688   \n",
       "85083554077  85083554077        127  10.1080/0960085X.2020.1747365   \n",
       "33748418886  33748418886        137               10.2307/41166358   \n",
       "34250686798  34250686798        306                10.1002/jae.992   \n",
       "77956383181  77956383181        352              10.1002/asi.21368   \n",
       "\n",
       "                                                         title  journal  year  \n",
       "85091942429  Government as network catalyst: Accelerating s...    15823  2020  \n",
       "73849110583  Innovation search of new ventures in a technol...    23157  2010  \n",
       "84958773336  Public-sector entrepreneurship and the creatio...    29104  2016  \n",
       "85041610915  The next phase in the digital revolution: Inte...    13675  2018  \n",
       "84957724865  An Indigenous Innovation: An Example from Mobi...    15349  2016  \n",
       "84864401602  SciMAT: A new science mapping analysis softwar...    12098  2012  \n",
       "85083554077  Digital M&A, digital innovation, and firm perf...    15074  2021  \n",
       "33748418886                Managing creativity in small worlds    21341  2006  \n",
       "34250686798  The relationship between R&D collaboration, su...    28964  2007  \n",
       "77956383181  Science overlay maps: A new tool for research ...    12098  2010  "
      ]
     },
     "execution_count": 127,
     "metadata": {},
     "output_type": "execute_result"
    }
   ],
   "source": [
    "# 取得できたInter SciSci論文の中身を確認してみる\n",
    "\n",
    "papers.loc[ISci_eid_ls[:10]]"
   ]
  },
  {
   "cell_type": "markdown",
   "id": "e4ba2c1e-9d9a-48e3-83c0-6457d3f66231",
   "metadata": {},
   "source": [
    "### 再帰的に実装\n"
   ]
  },
  {
   "cell_type": "code",
   "execution_count": 135,
   "id": "98d178a8-6607-44c5-85ce-d82edd5f0964",
   "metadata": {
    "execution": {
     "iopub.execute_input": "2024-07-08T18:19:25.055787Z",
     "iopub.status.busy": "2024-07-08T18:19:25.055267Z",
     "iopub.status.idle": "2024-07-08T18:19:25.059263Z",
     "shell.execute_reply": "2024-07-08T18:19:25.058827Z",
     "shell.execute_reply.started": "2024-07-08T18:19:25.055766Z"
    }
   },
   "outputs": [],
   "source": [
    "# def calculate_scisci_ratio(journal_subset_recursion):    \n",
    "#     #ランダムな引用だとSciSci論文は以下の確率で引用される\n",
    "#     scisci_ratio = journal_count[journal_count[\"journal\"].isin(journal_subset_recursion)]['count'].sum()/all_size\n",
    "#     return scisci_ratio   "
   ]
  },
  {
   "cell_type": "code",
   "execution_count": 144,
   "id": "b3dcc52e-64b4-4411-b5b8-44296f79932f",
   "metadata": {
    "execution": {
     "iopub.execute_input": "2024-07-08T18:26:52.034777Z",
     "iopub.status.busy": "2024-07-08T18:26:52.034290Z",
     "iopub.status.idle": "2024-07-08T18:26:52.039385Z",
     "shell.execute_reply": "2024-07-08T18:26:52.038990Z",
     "shell.execute_reply.started": "2024-07-08T18:26:52.034756Z"
    }
   },
   "outputs": [],
   "source": [
    "def extract_scisci_paper(core_scisci_paper_eid_ls_recursion,scisci_candidate_ls_recursion,scisci_ratio_recursion):\n",
    "\n",
    "    \"\"\"\n",
    "    core_scisci_paper_eid_ls_recursion: 前の回のアルゴリズムでSciSci論文と判定されたもの+SciSci専門誌の論文\n",
    "    scisci_candidate_ls_recursion: core_scisci_paper_eid_ls_recursionを一度でも引用or被引用しているもの(次のcore_scisci_paper_eid_ls_recursion候補)\n",
    "    scisci_ratio_recursion: scisci論文がランダムで引用される確率\n",
    "    \"\"\"\n",
    "    \n",
    "    ISci_eid_ls_recursion = []\n",
    "    \n",
    "    for eid in tqdm(scisci_candidate_ls_recursion):\n",
    "        if eid in ref_dict['reference'].keys():\n",
    "            target_ref_ls = ref_dict['reference'][eid] #対象論文(scisci論文が一回でも引用している論文)\n",
    "            mask_ref = np.isin(target_ref_ls, core_scisci_paper_eid_ls_recursion) #その論文が何回scisci論文を引用しているか\n",
    "            total_count_ref = np.sum(mask_ref)\n",
    "            scisci_ratio_ref = total_count_ref/len(target_ref_ls)\n",
    "        else:\n",
    "            scisci_ratio_ref = 0\n",
    "        if eid in citedby_dict['citedby'].keys():\n",
    "            target_citedby_ls = citedby_dict['citedby'][eid] #対象論文(scisci論文を一回でも引用している論文)\n",
    "            mask_citedby = np.isin(target_citedby_ls, core_scisci_paper_eid_ls_recursion) #その論文が何回scisci論文に引用されているか\n",
    "            total_count_citedby = np.sum(mask_citedby)\n",
    "            scisci_ratio_citedby = total_count_citedby/len(target_citedby_ls)\n",
    "        else:\n",
    "            scisci_ratio_citedby = 0\n",
    "        \n",
    "        if scisci_ratio_ref >= scisci_ratio_recursion and scisci_ratio_citedby >= scisci_ratio_recursion:\n",
    "            ISci_eid_ls_recursion.append(eid)\n",
    "        else:\n",
    "            continue\n",
    "    return ISci_eid_ls_recursion"
   ]
  },
  {
   "cell_type": "code",
   "execution_count": 148,
   "id": "0ac0738f-e991-4abd-876d-4ab25100e0ff",
   "metadata": {
    "execution": {
     "iopub.execute_input": "2024-07-08T18:28:41.949883Z",
     "iopub.status.busy": "2024-07-08T18:28:41.949478Z",
     "iopub.status.idle": "2024-07-08T18:43:36.709695Z",
     "shell.execute_reply": "2024-07-08T18:43:36.709011Z",
     "shell.execute_reply.started": "2024-07-08T18:28:41.949861Z"
    }
   },
   "outputs": [
    {
     "name": "stderr",
     "output_type": "stream",
     "text": [
      "100%|██████████████████████████████████| 332832/332832 [09:59<00:00, 555.23it/s]\n"
     ]
    },
    {
     "ename": "KeyboardInterrupt",
     "evalue": "",
     "output_type": "error",
     "traceback": [
      "\u001b[0;31m---------------------------------------------------------------------------\u001b[0m",
      "\u001b[0;31mKeyboardInterrupt\u001b[0m                         Traceback (most recent call last)",
      "Cell \u001b[0;32mIn[148], line 10\u001b[0m\n\u001b[1;32m      8\u001b[0m core_scisci_paper_eid_ls_recursion \u001b[38;5;241m=\u001b[39m new_ISci_eid_ls \u001b[38;5;241m+\u001b[39m core_scisci_paper_eid_ls_recursion\n\u001b[1;32m      9\u001b[0m new_scisci_ratio \u001b[38;5;241m=\u001b[39m core_scisci_paper_eid_ls_recursion \u001b[38;5;241m/\u001b[39m all_size\n\u001b[0;32m---> 10\u001b[0m scisci_candidate_ls_recursion \u001b[38;5;241m=\u001b[39m \u001b[43mextract_scisci_candidate_eid\u001b[49m\u001b[43m(\u001b[49m\u001b[43mcore_scisci_paper_eid_ls_recursion\u001b[49m\u001b[43m)\u001b[49m\n\u001b[1;32m     11\u001b[0m new_num \u001b[38;5;241m=\u001b[39m \u001b[38;5;28mlen\u001b[39m(new_ISci_eid_ls)\n\u001b[1;32m     13\u001b[0m \u001b[38;5;28mprint\u001b[39m(new_num)\n",
      "Cell \u001b[0;32mIn[138], line 5\u001b[0m, in \u001b[0;36mextract_scisci_candidate_eid\u001b[0;34m(core_scisci_eid)\u001b[0m\n\u001b[1;32m      3\u001b[0m \u001b[38;5;28;01mdef\u001b[39;00m \u001b[38;5;21mextract_scisci_candidate_eid\u001b[39m(core_scisci_eid):\n\u001b[1;32m      4\u001b[0m     ref_scisci \u001b[38;5;241m=\u001b[39m references2[references2[\u001b[38;5;124m'\u001b[39m\u001b[38;5;124mreference\u001b[39m\u001b[38;5;124m'\u001b[39m]\u001b[38;5;241m.\u001b[39misin(core_scisci_eid)]\n\u001b[0;32m----> 5\u001b[0m     citedby_scisci \u001b[38;5;241m=\u001b[39m citedby2[\u001b[43mcitedby2\u001b[49m\u001b[43m[\u001b[49m\u001b[38;5;124;43m'\u001b[39;49m\u001b[38;5;124;43mcitedby\u001b[39;49m\u001b[38;5;124;43m'\u001b[39;49m\u001b[43m]\u001b[49m\u001b[38;5;241;43m.\u001b[39;49m\u001b[43misin\u001b[49m\u001b[43m(\u001b[49m\u001b[43mcore_scisci_eid\u001b[49m\u001b[43m)\u001b[49m]\n\u001b[1;32m      7\u001b[0m     tmp \u001b[38;5;241m=\u001b[39m ref_scisci\u001b[38;5;241m.\u001b[39mdrop_duplicates(\u001b[38;5;124m'\u001b[39m\u001b[38;5;124meid\u001b[39m\u001b[38;5;124m'\u001b[39m)\n\u001b[1;32m      8\u001b[0m     ref_scisci_eid_ls \u001b[38;5;241m=\u001b[39m tmp\u001b[38;5;241m.\u001b[39meid\u001b[38;5;241m.\u001b[39mto_list()\n",
      "File \u001b[0;32m/usr/local/lib/python3.10/dist-packages/pandas/core/series.py:5563\u001b[0m, in \u001b[0;36mSeries.isin\u001b[0;34m(self, values)\u001b[0m\n\u001b[1;32m   5490\u001b[0m \u001b[38;5;28;01mdef\u001b[39;00m \u001b[38;5;21misin\u001b[39m(\u001b[38;5;28mself\u001b[39m, values) \u001b[38;5;241m-\u001b[39m\u001b[38;5;241m>\u001b[39m Series:\n\u001b[1;32m   5491\u001b[0m \u001b[38;5;250m    \u001b[39m\u001b[38;5;124;03m\"\"\"\u001b[39;00m\n\u001b[1;32m   5492\u001b[0m \u001b[38;5;124;03m    Whether elements in Series are contained in `values`.\u001b[39;00m\n\u001b[1;32m   5493\u001b[0m \n\u001b[0;32m   (...)\u001b[0m\n\u001b[1;32m   5561\u001b[0m \u001b[38;5;124;03m    dtype: bool\u001b[39;00m\n\u001b[1;32m   5562\u001b[0m \u001b[38;5;124;03m    \"\"\"\u001b[39;00m\n\u001b[0;32m-> 5563\u001b[0m     result \u001b[38;5;241m=\u001b[39m \u001b[43malgorithms\u001b[49m\u001b[38;5;241;43m.\u001b[39;49m\u001b[43misin\u001b[49m\u001b[43m(\u001b[49m\u001b[38;5;28;43mself\u001b[39;49m\u001b[38;5;241;43m.\u001b[39;49m\u001b[43m_values\u001b[49m\u001b[43m,\u001b[49m\u001b[43m \u001b[49m\u001b[43mvalues\u001b[49m\u001b[43m)\u001b[49m\n\u001b[1;32m   5564\u001b[0m     \u001b[38;5;28;01mreturn\u001b[39;00m \u001b[38;5;28mself\u001b[39m\u001b[38;5;241m.\u001b[39m_constructor(result, index\u001b[38;5;241m=\u001b[39m\u001b[38;5;28mself\u001b[39m\u001b[38;5;241m.\u001b[39mindex)\u001b[38;5;241m.\u001b[39m__finalize__(\n\u001b[1;32m   5565\u001b[0m         \u001b[38;5;28mself\u001b[39m, method\u001b[38;5;241m=\u001b[39m\u001b[38;5;124m\"\u001b[39m\u001b[38;5;124misin\u001b[39m\u001b[38;5;124m\"\u001b[39m\n\u001b[1;32m   5566\u001b[0m     )\n",
      "File \u001b[0;32m/usr/local/lib/python3.10/dist-packages/pandas/core/algorithms.py:527\u001b[0m, in \u001b[0;36misin\u001b[0;34m(comps, values)\u001b[0m\n\u001b[1;32m    524\u001b[0m     comps_array \u001b[38;5;241m=\u001b[39m comps_array\u001b[38;5;241m.\u001b[39mastype(common, copy\u001b[38;5;241m=\u001b[39m\u001b[38;5;28;01mFalse\u001b[39;00m)\n\u001b[1;32m    525\u001b[0m     f \u001b[38;5;241m=\u001b[39m htable\u001b[38;5;241m.\u001b[39mismember\n\u001b[0;32m--> 527\u001b[0m \u001b[38;5;28;01mreturn\u001b[39;00m \u001b[43mf\u001b[49m\u001b[43m(\u001b[49m\u001b[43mcomps_array\u001b[49m\u001b[43m,\u001b[49m\u001b[43m \u001b[49m\u001b[43mvalues\u001b[49m\u001b[43m)\u001b[49m\n",
      "\u001b[0;31mKeyboardInterrupt\u001b[0m: "
     ]
    }
   ],
   "source": [
    "new_num = np.inf\n",
    "\n",
    "scisci_candidate_ls_recursion = scisci_candidate_ls\n",
    "core_scisci_paper_eid_ls_recursion = core_scisci_paper_eid_ls\n",
    "new_scisci_ratio = scisci_ratio\n",
    "while new_num != 0:\n",
    "    new_ISci_eid_ls = extract_scisci_paper(core_scisci_paper_eid_ls_recursion, scisci_candidate_ls_recursion,new_scisci_ratio)\n",
    "    core_scisci_paper_eid_ls_recursion = new_ISci_eid_ls + core_scisci_paper_eid_ls_recursion\n",
    "    new_scisci_ratio = core_scisci_paper_eid_ls_recursion / all_size\n",
    "    scisci_candidate_ls_recursion = extract_scisci_candidate_eid(core_scisci_paper_eid_ls_recursion)\n",
    "    new_num = len(new_ISci_eid_ls)\n",
    "\n",
    "    print(new_num)\n",
    "    print(len(core_scisci_paper_eid_ls_recursion))"
   ]
  },
  {
   "cell_type": "code",
   "execution_count": 149,
   "id": "2bb033b2-6130-4e67-a909-e5a116e62b81",
   "metadata": {
    "execution": {
     "iopub.execute_input": "2024-07-09T05:04:14.795058Z",
     "iopub.status.busy": "2024-07-09T05:04:14.794401Z",
     "iopub.status.idle": "2024-07-09T05:04:14.800112Z",
     "shell.execute_reply": "2024-07-09T05:04:14.799647Z",
     "shell.execute_reply.started": "2024-07-09T05:04:14.795033Z"
    }
   },
   "outputs": [],
   "source": [
    "### SciSci-Core論文を引用or被引用されているか\n",
    "\n",
    "def extract_scisci_candidate_eid(core_scisci_eid):\n",
    "\n",
    "    ref_scisci = references2[references2['reference'].isin(core_scisci_eid)]\n",
    "    citedby_scisci = citedby2[citedby2['citedby'].isin(core_scisci_eid)]\n",
    "    \n",
    "    tmp = ref_scisci.drop_duplicates('eid')\n",
    "    ref_scisci_eid_ls = tmp.eid.to_list()\n",
    "    \n",
    "    tmp = citedby_scisci.drop_duplicates('eid')\n",
    "    citedby_scisci_eid_ls = tmp.eid.to_list()\n",
    "    \n",
    "    # scisci論文を引用or被引用しているeidリスト（対象はscopus24全件から）\n",
    "    scisci_candidate_eid_ls_tmp = list(set(list(ref_scisci_eid_ls)+list(citedby_scisci_eid_ls)))\n",
    "    \n",
    "    # 上のcore_scisci(Journal of Infomaticsなど)に含まれている論文を除去\n",
    "    scisci_candidate_ls = []\n",
    "    \n",
    "    for i in scisci_candidate_eid_ls_tmp:\n",
    "        if i not in core_scisci_paper_eid:\n",
    "            scisci_candidate_ls.append(i)\n",
    "    return scisci_candidate_eid"
   ]
  },
  {
   "cell_type": "code",
   "execution_count": 111,
   "id": "f73b50f1-f918-4b90-b321-5846e66a70c3",
   "metadata": {
    "execution": {
     "iopub.execute_input": "2024-07-08T17:48:54.121511Z",
     "iopub.status.busy": "2024-07-08T17:48:54.120954Z",
     "iopub.status.idle": "2024-07-08T17:48:54.192709Z",
     "shell.execute_reply": "2024-07-08T17:48:54.191952Z",
     "shell.execute_reply.started": "2024-07-08T17:48:54.121492Z"
    }
   },
   "outputs": [],
   "source": [
    "tmp = ref_scisci.drop_duplicates('eid')\n",
    "ref_scisci_eid_ls = tmp.eid.to_list()"
   ]
  },
  {
   "cell_type": "code",
   "execution_count": 112,
   "id": "a245801f-151e-4470-b3a0-0baab71a9b8e",
   "metadata": {
    "execution": {
     "iopub.execute_input": "2024-07-08T17:48:54.288086Z",
     "iopub.status.busy": "2024-07-08T17:48:54.287755Z",
     "iopub.status.idle": "2024-07-08T17:48:54.339559Z",
     "shell.execute_reply": "2024-07-08T17:48:54.339025Z",
     "shell.execute_reply.started": "2024-07-08T17:48:54.288067Z"
    }
   },
   "outputs": [],
   "source": [
    "tmp = citedby_scisci.drop_duplicates('eid')\n",
    "citedby_scisci_eid_ls = tmp.eid.to_list()"
   ]
  },
  {
   "cell_type": "code",
   "execution_count": 113,
   "id": "b370f2dc-3cb4-4a14-bd67-fc5872be9775",
   "metadata": {
    "execution": {
     "iopub.execute_input": "2024-07-08T17:48:54.635090Z",
     "iopub.status.busy": "2024-07-08T17:48:54.634666Z",
     "iopub.status.idle": "2024-07-08T17:49:16.280339Z",
     "shell.execute_reply": "2024-07-08T17:49:16.279408Z",
     "shell.execute_reply.started": "2024-07-08T17:48:54.635072Z"
    }
   },
   "outputs": [],
   "source": [
    "# scisci論文を引用or被引用しているeidリスト（対象はscopus24全件から）\n",
    "scisci_candidate_eid_ls_tmp = list(set(list(ref_scisci_eid_ls)+list(citedby_scisci_eid_ls)))\n",
    "\n",
    "# 上のcore_scisci(Journal of Infomaticsなど)に含まれている論文を除去\n",
    "scisci_candidate_ls = []\n",
    "\n",
    "for i in scisci_candidate_eid_ls_tmp:\n",
    "    if i not in core_scisci_paper_eid_ls:\n",
    "        scisci_candidate_ls.append(i)"
   ]
  }
 ],
 "metadata": {
  "kernelspec": {
   "display_name": "Python 3 (ipykernel)",
   "language": "python",
   "name": "python3"
  },
  "language_info": {
   "codemirror_mode": {
    "name": "ipython",
    "version": 3
   },
   "file_extension": ".py",
   "mimetype": "text/x-python",
   "name": "python",
   "nbconvert_exporter": "python",
   "pygments_lexer": "ipython3",
   "version": "3.10.12"
  }
 },
 "nbformat": 4,
 "nbformat_minor": 5
}
