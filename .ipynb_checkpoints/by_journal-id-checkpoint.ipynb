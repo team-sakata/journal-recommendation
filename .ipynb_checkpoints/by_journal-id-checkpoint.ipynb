{
 "cells": [
  {
   "cell_type": "code",
   "execution_count": null,
   "id": "a053a856-941f-4e43-9ac2-24a7fe45f58a",
   "metadata": {
    "execution": {
     "iopub.execute_input": "2024-06-14T11:17:44.072067Z",
     "iopub.status.busy": "2024-06-14T11:17:44.071774Z"
    }
   },
   "outputs": [],
   "source": [
    "import pandas as pd\n",
    "import numpy as np\n",
    "\n",
    "papers = pd.concat([\n",
    "  pd.read_pickle('/disks/qnap3/shared/scopus-22/data/paper_detail/num_cited.pickle'),\n",
    "  pd.read_pickle('/disks/qnap3/shared/scopus-22/data/paper_detail/doi.pickle'),\n",
    "  pd.read_pickle('/disks/qnap3/shared/scopus-22/data/paper_detail/title.pickle'),\n",
    "  pd.read_pickle('/disks/qnap3/shared/scopus-22/data/paper_detail/journal.pickle'),\n",
    "  # pd.read_pickle('/disks/qnap3/shared/scopus-22/data/paper_detail/authids.pickle'),\n",
    "  pd.read_pickle('/disks/qnap3/shared/scopus-22/data/paper_detail/year.pickle'),\n",
    "], axis = \"columns\")\n",
    "print(papers.head())\n",
    "\n",
    "papers = papers[papers[\"doi\"]!=\"NO DOI\"]\n",
    "journal_names = pd.read_pickle('/disks/qnap3/shared/scopus-22/data/id_names/journal_info.pickle')\n",
    "journal_names.head()"
   ]
  },
  {
   "cell_type": "code",
   "execution_count": null,
   "id": "9d6fd626-b7a8-454f-80f5-3ba368c23b85",
   "metadata": {},
   "outputs": [],
   "source": [
    "journal_subset = [\n",
    "  # Disciplinal\n",
    "  # Politics\n",
    "  # 15557 # APSR\n",
    "  # 20333 #\tJournal of Politics\tgbr\n",
    "  # 15555\t# American Journal of Political Science\tgbr\n",
    "  # 25725\t# World Politics\tNO SOURCECOUNTRY\n",
    "  # 13447\t# Comparative Political Studies\tusa\n",
    "\n",
    "  # Physics \n",
    "  # 29143,85318,29465,29459, # Phisical Review A-D\n",
    "  # 21100874237,21100874236,21100829284,21100779241, # Physical Review A-D\n",
    "  # 29150, # Phisical Review Letters\n",
    "  \n",
    "  24222, #Scientometrics\n",
    "  5100155103, #Journal of Informetrics\n",
    "  22900, # Research Policy\n",
    "  22894, # Research Evaluation\n",
    "  21101062805, #Quantitative Science Studies\n",
    "  # # General\n",
    "  # 21100838541, # Nature Human Behaviour\n",
    "  # 19700182758, # Nature Communications\n",
    "  # 23571, # Science\n",
    "  # 21121 # Proceedings of the National Academy of Science\n",
    "] \n",
    "\n",
    "papers_subset = papers[papers[\"journal\"].isin(journal_subset)].fillna(0)\n",
    "papers_subset_valid = papers_subset[(papers_subset[\"source\"]>0) & (papers_subset[\"doi\"]!=\"NO DOI\")]"
   ]
  },
  {
   "cell_type": "code",
   "execution_count": null,
   "id": "bac3debd-52c1-40d4-9f38-ad4323f54c7e",
   "metadata": {},
   "outputs": [],
   "source": [
    "groups = papers_subset_valid.groupby([\"journal\",\"year\"])[\"source\"].mean()\n",
    "\n",
    "journal_year_normalized = groups.reset_index()\n",
    "relative_citation = pd.merge(papers_subset_valid,\\\n",
    "                               journal_year_normalized,\\\n",
    "                               on=[\"journal\",\"year\"])\n",
    "weights = relative_citation[\"source_x\"].values/relative_citation[\"source_y\"].values\n",
    "relative_citation = relative_citation.assign(weights=weights)\n",
    "relative_citation.head()"
   ]
  },
  {
   "cell_type": "code",
   "execution_count": null,
   "id": "7e0456d4-e0e5-43c8-b374-f54607b7d55d",
   "metadata": {},
   "outputs": [],
   "source": [
    "relative_citation.to_pickle(\"./relative_citation_miura.pickle\")"
   ]
  },
  {
   "cell_type": "code",
   "execution_count": null,
   "id": "76bb7d9e-5062-4f6d-a509-d085df96b04c",
   "metadata": {},
   "outputs": [],
   "source": [
    "# relative_citation = pd.read_pickle(\"./relative_citation_miura.pickle\")\n",
    "sample_papers = relative_citation.sample(n=3, weights=relative_citation[\"weights\"])\n",
    "for v in sample_papers.iterrows():\n",
    "  print(v[1][\"title\"])\n",
    "  print(f\"   citation index: {v[1]['weights']:.3}\")\n",
    "  print(f\"   published in {v[1]['year']}\")\n",
    "  print(f\"   https://doi.org/\"+ v[1][\"doi\"])"
   ]
  },
  {
   "cell_type": "code",
   "execution_count": null,
   "id": "7cab37be-b8e2-493d-9b9c-939354028599",
   "metadata": {},
   "outputs": [],
   "source": []
  }
 ],
 "metadata": {
  "kernelspec": {
   "display_name": "Python 3 (ipykernel)",
   "language": "python",
   "name": "python3"
  },
  "language_info": {
   "codemirror_mode": {
    "name": "ipython",
    "version": 3
   },
   "file_extension": ".py",
   "mimetype": "text/x-python",
   "name": "python",
   "nbconvert_exporter": "python",
   "pygments_lexer": "ipython3",
   "version": "3.10.12"
  }
 },
 "nbformat": 4,
 "nbformat_minor": 5
}
