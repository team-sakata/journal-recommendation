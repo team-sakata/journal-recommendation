{
 "cells": [
  {
   "cell_type": "code",
   "execution_count": 2,
   "id": "79ce2f6c-46df-497b-bd6a-27264cbb031a",
   "metadata": {
    "execution": {
     "iopub.execute_input": "2024-06-18T23:34:34.586257Z",
     "iopub.status.busy": "2024-06-18T23:34:34.585857Z",
     "iopub.status.idle": "2024-06-18T23:34:35.171306Z",
     "shell.execute_reply": "2024-06-18T23:34:35.170620Z",
     "shell.execute_reply.started": "2024-06-18T23:34:34.586238Z"
    }
   },
   "outputs": [],
   "source": [
    "import pandas as pd\n",
    "import numpy as np"
   ]
  },
  {
   "cell_type": "code",
   "execution_count": 1,
   "id": "a053a856-941f-4e43-9ac2-24a7fe45f58a",
   "metadata": {
    "execution": {
     "iopub.execute_input": "2024-06-14T11:17:44.072067Z",
     "iopub.status.busy": "2024-06-14T11:17:44.071774Z",
     "iopub.status.idle": "2024-06-14T11:20:12.605539Z",
     "shell.execute_reply": "2024-06-14T11:20:12.604899Z",
     "shell.execute_reply.started": "2024-06-14T11:17:44.072042Z"
    }
   },
   "outputs": [
    {
     "name": "stdout",
     "output_type": "stream",
     "text": [
      "     source                                                doi  \\\n",
      "107    12.0    10.1175/1520-0442(1997)010<2184:ASAIUF>2.0.CO;2   \n",
      "110     6.0                                  10.1063/1.1285965   \n",
      "116    32.0                            10.1103/PhysRevE.56.623   \n",
      "117    77.0                                     10.1086/304826   \n",
      "118    55.0  10.1002/(SICI)1521-4109(199907)11:9<623::AID-E...   \n",
      "\n",
      "                                                 title      journal  year  \n",
      "107  Assessing surface-atmosphere interactions usin...        13550  1997  \n",
      "110  Symmetry of quantum phase space in a degenerat...        27430  2000  \n",
      "116  Friction in strongly confined polymer melts: E...  21100855841  1997  \n",
      "117  Nearby young dwarf galaxies: Primordial gas an...        26765  1997  \n",
      "118  Determination of iodate in salt samples with a...        23979  1999  \n"
     ]
    },
    {
     "data": {
      "text/html": [
       "<div>\n",
       "<style scoped>\n",
       "    .dataframe tbody tr th:only-of-type {\n",
       "        vertical-align: middle;\n",
       "    }\n",
       "\n",
       "    .dataframe tbody tr th {\n",
       "        vertical-align: top;\n",
       "    }\n",
       "\n",
       "    .dataframe thead th {\n",
       "        text-align: right;\n",
       "    }\n",
       "</style>\n",
       "<table border=\"1\" class=\"dataframe\">\n",
       "  <thead>\n",
       "    <tr style=\"text-align: right;\">\n",
       "      <th></th>\n",
       "      <th>name</th>\n",
       "      <th>country</th>\n",
       "    </tr>\n",
       "    <tr>\n",
       "      <th>journalid</th>\n",
       "      <th></th>\n",
       "      <th></th>\n",
       "    </tr>\n",
       "  </thead>\n",
       "  <tbody>\n",
       "    <tr>\n",
       "      <th>0</th>\n",
       "      <td>NO SOURCENAME</td>\n",
       "      <td>NO SOURCECOUNTRY</td>\n",
       "    </tr>\n",
       "    <tr>\n",
       "      <th>12000</th>\n",
       "      <td>Journal of Technology in Counseling</td>\n",
       "      <td>usa</td>\n",
       "    </tr>\n",
       "    <tr>\n",
       "      <th>12001</th>\n",
       "      <td>Journal of the Experimental Analysis of Behavior</td>\n",
       "      <td>NO SOURCECOUNTRY</td>\n",
       "    </tr>\n",
       "    <tr>\n",
       "      <th>12002</th>\n",
       "      <td>Journal of the History of the Behavioral Sciences</td>\n",
       "      <td>NO SOURCECOUNTRY</td>\n",
       "    </tr>\n",
       "    <tr>\n",
       "      <th>12003</th>\n",
       "      <td>Reconstructionist</td>\n",
       "      <td>usa</td>\n",
       "    </tr>\n",
       "  </tbody>\n",
       "</table>\n",
       "</div>"
      ],
      "text/plain": [
       "                                                        name           country\n",
       "journalid                                                                     \n",
       "0                                              NO SOURCENAME  NO SOURCECOUNTRY\n",
       "12000                    Journal of Technology in Counseling               usa\n",
       "12001       Journal of the Experimental Analysis of Behavior  NO SOURCECOUNTRY\n",
       "12002      Journal of the History of the Behavioral Sciences  NO SOURCECOUNTRY\n",
       "12003                                      Reconstructionist               usa"
      ]
     },
     "execution_count": 1,
     "metadata": {},
     "output_type": "execute_result"
    }
   ],
   "source": [
    "papers = pd.concat([\n",
    "  pd.read_pickle('/disks/qnap3/shared/scopus-22/data/paper_detail/num_cited.pickle'),\n",
    "  pd.read_pickle('/disks/qnap3/shared/scopus-22/data/paper_detail/doi.pickle'),\n",
    "  pd.read_pickle('/disks/qnap3/shared/scopus-22/data/paper_detail/title.pickle'),\n",
    "  pd.read_pickle('/disks/qnap3/shared/scopus-22/data/paper_detail/journal.pickle'),\n",
    "  # pd.read_pickle('/disks/qnap3/shared/scopus-22/data/paper_detail/authids.pickle'),\n",
    "  pd.read_pickle('/disks/qnap3/shared/scopus-22/data/paper_detail/year.pickle'),\n",
    "], axis = \"columns\")\n",
    "print(papers.head())\n",
    "\n",
    "papers = papers[papers[\"doi\"]!=\"NO DOI\"]\n",
    "journal_names = pd.read_pickle('/disks/qnap3/shared/scopus-22/data/id_names/journal_info.pickle')\n",
    "journal_names.head()"
   ]
  },
  {
   "cell_type": "code",
   "execution_count": 2,
   "id": "9d6fd626-b7a8-454f-80f5-3ba368c23b85",
   "metadata": {
    "execution": {
     "iopub.execute_input": "2024-06-14T11:20:12.606661Z",
     "iopub.status.busy": "2024-06-14T11:20:12.606530Z",
     "iopub.status.idle": "2024-06-14T11:20:12.820394Z",
     "shell.execute_reply": "2024-06-14T11:20:12.819911Z",
     "shell.execute_reply.started": "2024-06-14T11:20:12.606650Z"
    }
   },
   "outputs": [],
   "source": [
    "journal_subset = [\n",
    "  # Disciplinal\n",
    "  # Politics\n",
    "  # 15557 # APSR\n",
    "  # 20333 #\tJournal of Politics\tgbr\n",
    "  # 15555\t# American Journal of Political Science\tgbr\n",
    "  # 25725\t# World Politics\tNO SOURCECOUNTRY\n",
    "  # 13447\t# Comparative Political Studies\tusa\n",
    "\n",
    "  # Physics \n",
    "  # 29143,85318,29465,29459, # Phisical Review A-D\n",
    "  # 21100874237,21100874236,21100829284,21100779241, # Physical Review A-D\n",
    "  # 29150, # Phisical Review Letters\n",
    "  \n",
    "  24222, #Scientometrics\n",
    "  5100155103, #Journal of Informetrics\n",
    "  22900, # Research Policy\n",
    "  22894, # Research Evaluation\n",
    "  21101062805, #Quantitative Science Studies\n",
    "  # # General\n",
    "  # 21100838541, # Nature Human Behaviour\n",
    "  # 19700182758, # Nature Communications\n",
    "  # 23571, # Science\n",
    "  # 21121 # Proceedings of the National Academy of Science\n",
    "] \n",
    "\n",
    "papers_subset = papers[papers[\"journal\"].isin(journal_subset)].fillna(0)\n",
    "papers_subset_valid = papers_subset[(papers_subset[\"source\"]>0) & (papers_subset[\"doi\"]!=\"NO DOI\")]"
   ]
  },
  {
   "cell_type": "code",
   "execution_count": 3,
   "id": "bac3debd-52c1-40d4-9f38-ad4323f54c7e",
   "metadata": {
    "execution": {
     "iopub.execute_input": "2024-06-14T11:20:12.821231Z",
     "iopub.status.busy": "2024-06-14T11:20:12.820978Z",
     "iopub.status.idle": "2024-06-14T11:20:12.838777Z",
     "shell.execute_reply": "2024-06-14T11:20:12.838435Z",
     "shell.execute_reply.started": "2024-06-14T11:20:12.821220Z"
    }
   },
   "outputs": [
    {
     "data": {
      "text/html": [
       "<div>\n",
       "<style scoped>\n",
       "    .dataframe tbody tr th:only-of-type {\n",
       "        vertical-align: middle;\n",
       "    }\n",
       "\n",
       "    .dataframe tbody tr th {\n",
       "        vertical-align: top;\n",
       "    }\n",
       "\n",
       "    .dataframe thead th {\n",
       "        text-align: right;\n",
       "    }\n",
       "</style>\n",
       "<table border=\"1\" class=\"dataframe\">\n",
       "  <thead>\n",
       "    <tr style=\"text-align: right;\">\n",
       "      <th></th>\n",
       "      <th>source_x</th>\n",
       "      <th>doi</th>\n",
       "      <th>title</th>\n",
       "      <th>journal</th>\n",
       "      <th>year</th>\n",
       "      <th>source_y</th>\n",
       "      <th>weights</th>\n",
       "    </tr>\n",
       "  </thead>\n",
       "  <tbody>\n",
       "    <tr>\n",
       "      <th>0</th>\n",
       "      <td>95.0</td>\n",
       "      <td>10.1016/S0048-7333(99)00120-1</td>\n",
       "      <td>Overseas innovations by Japanese firms: An ana...</td>\n",
       "      <td>22900</td>\n",
       "      <td>2001</td>\n",
       "      <td>146.690476</td>\n",
       "      <td>0.647622</td>\n",
       "    </tr>\n",
       "    <tr>\n",
       "      <th>1</th>\n",
       "      <td>155.0</td>\n",
       "      <td>10.1016/S0048-7333(00)00147-5</td>\n",
       "      <td>The changing composition of innovative activit...</td>\n",
       "      <td>22900</td>\n",
       "      <td>2001</td>\n",
       "      <td>146.690476</td>\n",
       "      <td>1.056647</td>\n",
       "    </tr>\n",
       "    <tr>\n",
       "      <th>2</th>\n",
       "      <td>184.0</td>\n",
       "      <td>10.1016/S0048-7333(00)00098-6</td>\n",
       "      <td>Location and network effects on innovation suc...</td>\n",
       "      <td>22900</td>\n",
       "      <td>2001</td>\n",
       "      <td>146.690476</td>\n",
       "      <td>1.254342</td>\n",
       "    </tr>\n",
       "    <tr>\n",
       "      <th>3</th>\n",
       "      <td>129.0</td>\n",
       "      <td>10.1016/S0048-7333(00)00095-0</td>\n",
       "      <td>Market- and committee-based mechanisms in the ...</td>\n",
       "      <td>22900</td>\n",
       "      <td>2001</td>\n",
       "      <td>146.690476</td>\n",
       "      <td>0.879403</td>\n",
       "    </tr>\n",
       "    <tr>\n",
       "      <th>4</th>\n",
       "      <td>185.0</td>\n",
       "      <td>10.1016/S0048-7333(99)00102-X</td>\n",
       "      <td>Determinants of location of overseas R&amp;D activ...</td>\n",
       "      <td>22900</td>\n",
       "      <td>2001</td>\n",
       "      <td>146.690476</td>\n",
       "      <td>1.261159</td>\n",
       "    </tr>\n",
       "  </tbody>\n",
       "</table>\n",
       "</div>"
      ],
      "text/plain": [
       "   source_x                            doi  \\\n",
       "0      95.0  10.1016/S0048-7333(99)00120-1   \n",
       "1     155.0  10.1016/S0048-7333(00)00147-5   \n",
       "2     184.0  10.1016/S0048-7333(00)00098-6   \n",
       "3     129.0  10.1016/S0048-7333(00)00095-0   \n",
       "4     185.0  10.1016/S0048-7333(99)00102-X   \n",
       "\n",
       "                                               title  journal  year  \\\n",
       "0  Overseas innovations by Japanese firms: An ana...    22900  2001   \n",
       "1  The changing composition of innovative activit...    22900  2001   \n",
       "2  Location and network effects on innovation suc...    22900  2001   \n",
       "3  Market- and committee-based mechanisms in the ...    22900  2001   \n",
       "4  Determinants of location of overseas R&D activ...    22900  2001   \n",
       "\n",
       "     source_y   weights  \n",
       "0  146.690476  0.647622  \n",
       "1  146.690476  1.056647  \n",
       "2  146.690476  1.254342  \n",
       "3  146.690476  0.879403  \n",
       "4  146.690476  1.261159  "
      ]
     },
     "execution_count": 3,
     "metadata": {},
     "output_type": "execute_result"
    }
   ],
   "source": [
    "groups = papers_subset_valid.groupby([\"journal\",\"year\"])[\"source\"].mean()\n",
    "\n",
    "journal_year_normalized = groups.reset_index()\n",
    "relative_citation = pd.merge(papers_subset_valid,\\\n",
    "                               journal_year_normalized,\\\n",
    "                               on=[\"journal\",\"year\"])\n",
    "weights = relative_citation[\"source_x\"].values/relative_citation[\"source_y\"].values\n",
    "relative_citation = relative_citation.assign(weights=weights)\n",
    "relative_citation.head()"
   ]
  },
  {
   "cell_type": "code",
   "execution_count": 4,
   "id": "7e0456d4-e0e5-43c8-b374-f54607b7d55d",
   "metadata": {
    "execution": {
     "iopub.execute_input": "2024-06-14T11:20:12.839834Z",
     "iopub.status.busy": "2024-06-14T11:20:12.839557Z",
     "iopub.status.idle": "2024-06-14T11:20:12.852309Z",
     "shell.execute_reply": "2024-06-14T11:20:12.851951Z",
     "shell.execute_reply.started": "2024-06-14T11:20:12.839823Z"
    }
   },
   "outputs": [],
   "source": [
    "# relative_citation.to_pickle(\"./relative_citation_miura.pickle\")"
   ]
  },
  {
   "cell_type": "code",
   "execution_count": 5,
   "id": "76bb7d9e-5062-4f6d-a509-d085df96b04c",
   "metadata": {
    "execution": {
     "iopub.execute_input": "2024-06-20T09:14:40.467763Z",
     "iopub.status.busy": "2024-06-20T09:14:40.467422Z",
     "iopub.status.idle": "2024-06-20T09:14:40.626868Z",
     "shell.execute_reply": "2024-06-20T09:14:40.626110Z",
     "shell.execute_reply.started": "2024-06-20T09:14:40.467737Z"
    }
   },
   "outputs": [
    {
     "name": "stdout",
     "output_type": "stream",
     "text": [
      "Identifying the intellectual structure of fields: introduction of the MAK approach\n",
      "   citation index: 0.823\n",
      "   published in 2020\n",
      "   https://doi.org/10.1007/s11192-020-03719-8\n",
      "Impact of bibliometrics upon the science system: Inadvertent consequences?\n",
      "   citation index: 7.03\n",
      "   published in 2005\n",
      "   https://doi.org/10.1007/s11192-005-0007-7\n",
      "How should the societal impact of research be generated and measured? A proposal for a simple and practicable approach to allow interdisciplinary comparisons\n",
      "   citation index: 1.63\n",
      "   published in 2014\n",
      "   https://doi.org/10.1007/s11192-013-1020-x\n"
     ]
    }
   ],
   "source": [
    "relative_citation = pd.read_pickle(\"./relative_citation_miura.pickle\")\n",
    "sample_papers = relative_citation.sample(n=3, weights=relative_citation[\"weights\"])\n",
    "for v in sample_papers.iterrows():\n",
    "  print(v[1][\"title\"])\n",
    "  print(f\"   citation index: {v[1]['weights']:.3}\")\n",
    "  print(f\"   published in {v[1]['year']}\")\n",
    "  print(f\"   https://doi.org/\"+ v[1][\"doi\"])"
   ]
  },
  {
   "cell_type": "code",
   "execution_count": 33,
   "id": "7cab37be-b8e2-493d-9b9c-939354028599",
   "metadata": {
    "execution": {
     "iopub.execute_input": "2024-06-14T12:12:21.803057Z",
     "iopub.status.busy": "2024-06-14T12:12:21.802698Z",
     "iopub.status.idle": "2024-06-14T12:12:22.124707Z",
     "shell.execute_reply": "2024-06-14T12:12:22.124271Z",
     "shell.execute_reply.started": "2024-06-14T12:12:21.803031Z"
    }
   },
   "outputs": [
    {
     "data": {
      "image/png": "[encoded data removed]",
      "text/plain": [
       "<Figure size 640x480 with 1 Axes>"
      ]
     },
     "metadata": {},
     "output_type": "display_data"
    }
   ],
   "source": [
    "import numpy as np\n",
    "import matplotlib.pyplot as plt\n",
    "plt.scatter(relative_citation[\"year\"],relative_citation[\"weights\"], s=1, alpha = 0.3)\n",
    "plt.plot(list(range(1971,2022)),relative_citation.groupby(by=\"year\")[\"weights\"].median())\n",
    "plt.yscale(\"log\")"
   ]
  }
 ],
 "metadata": {
  "kernelspec": {
   "display_name": "Python 3 (ipykernel)",
   "language": "python",
   "name": "python3"
  },
  "language_info": {
   "codemirror_mode": {
    "name": "ipython",
    "version": 3
   },
   "file_extension": ".py",
   "mimetype": "text/x-python",
   "name": "python",
   "nbconvert_exporter": "python",
   "pygments_lexer": "ipython3",
   "version": "3.10.12"
  }
 },
 "nbformat": 4,
 "nbformat_minor": 5
}
